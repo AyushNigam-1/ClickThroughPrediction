{
 "cells": [
  {
   "cell_type": "code",
   "execution_count": 2,
   "id": "800d4733",
   "metadata": {},
   "outputs": [],
   "source": [
    "import pandas as pd\n",
    "import numpy as np\n",
    "import matplotlib.pyplot as plt\n",
    "import seaborn as sns\n",
    "import warnings\n",
    "from sklearn.preprocessing import LabelEncoder , OneHotEncoder\n",
    "from sklearn.preprocessing import PolynomialFeatures, KBinsDiscretizer\n",
    "\n",
    "warnings.filterwarnings(\"ignore\")\n"
   ]
  },
  {
   "cell_type": "code",
   "execution_count": 3,
   "id": "146a00e8",
   "metadata": {},
   "outputs": [
    {
     "name": "stdout",
     "output_type": "stream",
     "text": [
      "['impression_id', 'impression_time', 'user_id', 'app_code', 'os_version', 'is_4G', 'is_click'] ['item_id', 'item_price', 'category_1', 'category_2', 'category_3', 'product_type'] ['server_time', 'device_type', 'session_id', 'user_id', 'item_id']\n"
     ]
    }
   ],
   "source": [
    "train_cv = pd.read_csv('train_adc/train.csv')\n",
    "items = pd.read_csv('train_adc/item_data.csv')\n",
    "view_logs = pd.read_csv('train_adc/view_log.csv')\n",
    "\n",
    "print(train_cv.columns.tolist(),items.columns.tolist(),view_logs.columns.tolist())"
   ]
  },
  {
   "cell_type": "code",
   "execution_count": 4,
   "id": "e449b756",
   "metadata": {},
   "outputs": [
    {
     "name": "stdout",
     "output_type": "stream",
     "text": [
      "\n",
      "Train Nulls:\n",
      "impression_id      0\n",
      "impression_time    0\n",
      "user_id            0\n",
      "app_code           0\n",
      "os_version         0\n",
      "is_4G              0\n",
      "is_click           0\n",
      "dtype: int64\n",
      "\n",
      "Items Nulls:\n",
      "item_id         0\n",
      "item_price      0\n",
      "category_1      0\n",
      "category_2      0\n",
      "category_3      0\n",
      "product_type    0\n",
      "dtype: int64\n",
      "\n",
      "View Logs Nulls:\n",
      "server_time    0\n",
      "device_type    0\n",
      "session_id     0\n",
      "user_id        0\n",
      "item_id        0\n",
      "dtype: int64\n"
     ]
    }
   ],
   "source": [
    "# Check data types and missing values\n",
    "for name, df in zip(['Train', 'Items', 'View Logs'], [train_cv, items, view_logs]):\n",
    "    # print(f\"\\n{name} Info:\")\n",
    "    # display(df.info())\n",
    "    print(f\"\\n{name} Nulls:\\n{df.isnull().sum()}\")"
   ]
  },
  {
   "cell_type": "code",
   "execution_count": 5,
   "id": "cd18bc78",
   "metadata": {},
   "outputs": [],
   "source": [
    "# import pandas as pd\n",
    "# import matplotlib.pyplot as plt\n",
    "# import seaborn as sns\n",
    "# from scipy.stats import shapiro, normaltest, probplot\n",
    "\n",
    "# # Example: df is your DataFrame\n",
    "# cols = ['avg_item_price', 'max_item_price']\n",
    "\n",
    "# for col in cols:\n",
    "#     print(f\"\\n--- Checking Normality for: {col} ---\")\n",
    "    \n",
    "#     # Histogram\n",
    "#     sns.histplot(train_cv[col].dropna(), kde=True)\n",
    "#     plt.title(f\"Histogram of {col}\")\n",
    "#     plt.show()\n",
    "    \n",
    "#     # Q-Q Plot\n",
    "#     probplot(df[col].dropna(), dist=\"norm\", plot=plt)\n",
    "#     plt.title(f\"Q-Q Plot of {col}\")\n",
    "#     plt.show()\n",
    "    \n",
    "#     # Shapiro-Wilk test (good for small samples)\n",
    "#     stat, p = shapiro(df[col].dropna())\n",
    "#     print(f\"Shapiro-Wilk Test → Statistic={stat:.3f}, p={p:.3f}\")\n",
    "    \n",
    "#     # D’Agostino and Pearson’s test (good for larger samples)\n",
    "#     stat, p = normaltest(df[col].dropna())\n",
    "#     print(f\"D’Agostino Test → Statistic={stat:.3f}, p={p:.3f}\")\n",
    "    \n",
    "#     if p > 0.05:\n",
    "#         print(f\"{col} looks **normal** (fail to reject H0).\")\n",
    "#     else:\n",
    "#         print(f\"{col} is **not normal** (reject H0).\")\n"
   ]
  },
  {
   "cell_type": "code",
   "execution_count": 6,
   "id": "675044b8",
   "metadata": {},
   "outputs": [],
   "source": [
    "# df['avg_item_price'].fillna(df['avg_item_price'].median(), inplace=True)\n",
    "# df['max_item_price'].fillna(df['max_item_price'].median(), inplace=True)\n",
    "# df.drop(columns=[\"item_price\", \"category_1\", \"category_2\", \"category_3\", \"product_type\"], inplace=True)\n"
   ]
  },
  {
   "cell_type": "code",
   "execution_count": 7,
   "id": "8e9e677d",
   "metadata": {},
   "outputs": [],
   "source": [
    "train_cv['impression_time'] = pd.to_datetime(train_cv['impression_time'])\n",
    "view_logs['server_time'] = pd.to_datetime(view_logs['server_time'])"
   ]
  },
  {
   "cell_type": "code",
   "execution_count": 8,
   "id": "85a9110d",
   "metadata": {},
   "outputs": [],
   "source": [
    "# Merge view_logs with item data to enrich view log information\n",
    "view_logs = view_logs.merge(items, on='item_id', how='left')\n"
   ]
  },
  {
   "cell_type": "code",
   "execution_count": 9,
   "id": "01b1acf8",
   "metadata": {},
   "outputs": [],
   "source": [
    "# Create user-level aggregated features from view logs without NaNs\n",
    "user_view_agg = (\n",
    "    view_logs.groupby('user_id', dropna=False)\n",
    "    .agg({\n",
    "        'item_id': lambda x: x.count(),  # count non-NaN\n",
    "        'item_price': [\n",
    "            lambda x: x.mean(skipna=True),\n",
    "            lambda x: x.max(skipna=True)\n",
    "        ],\n",
    "        'category_1': lambda x: x.nunique(dropna=True),\n",
    "        'category_2': lambda x: x.nunique(dropna=True),\n",
    "        'category_3': lambda x: x.nunique(dropna=True),\n",
    "        'product_type': lambda x: x.nunique(dropna=True),\n",
    "    })\n",
    "    .reset_index()\n",
    ")\n",
    "\n",
    "# Rename columns\n",
    "user_view_agg.columns = [\n",
    "    'user_id', \n",
    "    'total_views', \n",
    "    'avg_item_price', \n",
    "    'max_item_price',\n",
    "    'unique_cat1', \n",
    "    'unique_cat2', \n",
    "    'unique_cat3', \n",
    "    'unique_product_types'\n",
    "]\n",
    "\n",
    "# Replace any remaining NaNs with 0 (e.g., for users with no price info)\n",
    "user_view_agg = user_view_agg.fillna(0)\n"
   ]
  },
  {
   "cell_type": "code",
   "execution_count": 10,
   "id": "5b909e29",
   "metadata": {},
   "outputs": [],
   "source": [
    "train_cv = train_cv.merge(user_view_agg, on='user_id', how='left')"
   ]
  },
  {
   "cell_type": "code",
   "execution_count": 11,
   "id": "72fcf095",
   "metadata": {},
   "outputs": [],
   "source": [
    "train_cv = train_cv.merge(view_logs[['user_id', 'device_type']], on='user_id', how='left')"
   ]
  },
  {
   "cell_type": "code",
   "execution_count": 12,
   "id": "57e0e2a5",
   "metadata": {},
   "outputs": [
    {
     "data": {
      "text/plain": [
       "Index(['impression_id', 'impression_time', 'user_id', 'app_code', 'os_version',\n",
       "       'is_4G', 'is_click', 'total_views', 'avg_item_price', 'max_item_price',\n",
       "       'unique_cat1', 'unique_cat2', 'unique_cat3', 'unique_product_types',\n",
       "       'device_type'],\n",
       "      dtype='object')"
      ]
     },
     "execution_count": 12,
     "metadata": {},
     "output_type": "execute_result"
    }
   ],
   "source": [
    "train_cv.columns"
   ]
  },
  {
   "cell_type": "code",
   "execution_count": 13,
   "id": "57a1e0bc",
   "metadata": {},
   "outputs": [
    {
     "data": {
      "image/png": "[encoded data removed]",
      "text/plain": [
       "<Figure size 640x480 with 1 Axes>"
      ]
     },
     "metadata": {},
     "output_type": "display_data"
    },
    {
     "data": {
      "image/png": "[encoded data removed]",
      "text/plain": [
       "<Figure size 1000x600 with 1 Axes>"
      ]
     },
     "metadata": {},
     "output_type": "display_data"
    },
    {
     "data": {
      "image/png": "[encoded data removed]",
      "text/plain": [
       "<Figure size 600x500 with 1 Axes>"
      ]
     },
     "metadata": {},
     "output_type": "display_data"
    }
   ],
   "source": [
    "sns.countplot(data=train_cv, x='is_click')\n",
    "plt.title('Target Distribution')\n",
    "\n",
    "app_code_counts = train_cv['app_code'].value_counts()\n",
    "\n",
    "# Plot the frequencies (log scale helps if highly skewed)\n",
    "plt.figure(figsize=(10, 6))\n",
    "sns.histplot(app_code_counts, bins=50, kde=False)\n",
    "plt.title('App Code Frequency Distribution')\n",
    "plt.xlabel('Frequency of App Code')\n",
    "plt.ylabel('Number of App Codes')\n",
    "plt.yscale('log')  # Optional: Log scale helps if data is very skewed\n",
    "plt.grid(True)\n",
    "plt.show()\n",
    "\n",
    "# CTR by OS Version\n",
    "plt.figure(figsize=(6, 5))\n",
    "train_cv.groupby('os_version')['is_click'].mean().sort_values(ascending=False).plot(kind='bar')\n",
    "plt.title('CTR by OS Version')\n",
    "plt.tight_layout()\n",
    "\n",
    "plt.show()"
   ]
  },
  {
   "cell_type": "code",
   "execution_count": 14,
   "id": "c9dd3ca3",
   "metadata": {},
   "outputs": [],
   "source": [
    "train_cv['impression_time'] = pd.to_datetime(train_cv['impression_time'])\n",
    "\n",
    "train_cv['hour'] = train_cv['impression_time'].dt.hour\n",
    "train_cv['dayofweek'] = train_cv['impression_time'].dt.dayofweek\n",
    "train_cv['is_weekend'] = train_cv['dayofweek'].isin([5, 6]).astype(int)"
   ]
  },
  {
   "cell_type": "code",
   "execution_count": 15,
   "id": "0c22f26e",
   "metadata": {},
   "outputs": [],
   "source": [
    "cols_to_encode = [\"os_version\", \"device_type\"]\n",
    "\n",
    "for col in cols_to_encode:\n",
    "    mask = train_cv[col].apply(lambda x: isinstance(x, (list, tuple, np.ndarray)))\n",
    "    if mask.any():\n",
    "        print(f\"Column '{col}' has array-like values at indices: {train_cv.index[mask].tolist()}\")\n",
    "        print(train_cv.loc[mask, col])"
   ]
  },
  {
   "cell_type": "code",
   "execution_count": 16,
   "id": "0a7b2615",
   "metadata": {},
   "outputs": [],
   "source": [
    "train_cv = train_cv.drop(index=224520)"
   ]
  },
  {
   "cell_type": "code",
   "execution_count": 17,
   "id": "e8706875",
   "metadata": {},
   "outputs": [],
   "source": [
    "le = LabelEncoder()\n",
    "ohe = OneHotEncoder(drop='first', sparse_output=False)  # drop='first' for dummy trap, sparse_output=False for DataFrame\n",
    "\n",
    "for col in ['unique_cat1', 'unique_cat2', 'unique_cat3', 'unique_product_types']:\n",
    "    train_cv[col] = train_cv[col].astype(str)  # If needed\n",
    "    train_cv[col] = le.fit_transform(train_cv[col])\n",
    "encoded_array = ohe.fit_transform(train_cv[cols_to_encode])\n",
    "encoded_df = pd.DataFrame(\n",
    "    encoded_array, \n",
    "    columns=ohe.get_feature_names_out(cols_to_encode),\n",
    "    index=train_cv.index\n",
    ")\n",
    "train_cv = pd.concat([train_cv.drop(columns=cols_to_encode), encoded_df], axis=1)\n"
   ]
  },
  {
   "cell_type": "code",
   "execution_count": 18,
   "id": "8871410d",
   "metadata": {},
   "outputs": [],
   "source": [
    "app_click_rate = train_cv.groupby('app_code')['is_click'].mean()\n",
    "train_cv['app_code_click_rate'] = train_cv['app_code'].map(app_click_rate)"
   ]
  },
  {
   "cell_type": "code",
   "execution_count": 19,
   "id": "8ff4317f",
   "metadata": {},
   "outputs": [
    {
     "name": "stdout",
     "output_type": "stream",
     "text": [
      "At Threshold -> 10\n",
      "Click rate variance for frequent apps: 0.028218142997270244\n",
      "Click rate variance for rare apps: 0.044397463002114175\n",
      "At Threshold -> 20\n",
      "Click rate variance for frequent apps: 0.025516718174889326\n",
      "Click rate variance for rare apps: 0.055413469735720394\n",
      "At Threshold -> 30\n",
      "Click rate variance for frequent apps: 0.02201618081368292\n",
      "Click rate variance for rare apps: 0.06859056193867727\n",
      "At Threshold -> 40\n",
      "Click rate variance for frequent apps: 0.022200945737065207\n",
      "Click rate variance for rare apps: 0.06007926268402907\n",
      "At Threshold -> 50\n",
      "Click rate variance for frequent apps: 0.020995560294643712\n",
      "Click rate variance for rare apps: 0.06124083877710139\n"
     ]
    }
   ],
   "source": [
    "# Frequency of each app_code\n",
    "app_freq = train_cv['app_code'].value_counts()\n",
    "\n",
    "# Click rate per app_code\n",
    "app_click_rate = train_cv.groupby('app_code')['is_click'].mean()\n",
    "\n",
    "# Combine into one DataFrame\n",
    "app_stats = pd.DataFrame({\n",
    "    'frequency': app_freq,\n",
    "    'click_rate': app_click_rate\n",
    "})\n",
    "\n",
    "# Mark rare\n",
    "thresholds = [10,20,30,40,50]  # try 10, 30, 50, etc.\n",
    "for threshold in thresholds:\n",
    "    app_stats['is_rare'] = app_stats['frequency'] < threshold\n",
    "\n",
    "    # Compare variance\n",
    "    print(\"At Threshold ->\",threshold)\n",
    "    print(\"Click rate variance for frequent apps:\", app_stats.loc[~app_stats['is_rare'], 'click_rate'].var())\n",
    "    print(\"Click rate variance for rare apps:\", app_stats.loc[app_stats['is_rare'], 'click_rate'].var())\n",
    "\n",
    "    # Plot click rate vs frequency\n",
    "    # import matplotlib.pyplot as plt\n",
    "    # plt.figure(figsize=(8,5))\n",
    "    # plt.scatter(app_stats['frequency'], app_stats['click_rate'], alpha=0.5)\n",
    "    # plt.xscale('log')\n",
    "    # plt.xlabel('Frequency (log scale)')\n",
    "    # plt.ylabel('Click Rate')\n",
    "    # plt.title('Click Rate vs App Code Frequency')\n",
    "    # plt.axvline(threshold, color='red', linestyle='--', label=f'Threshold = {threshold}')\n",
    "    # plt.legend()\n",
    "    # plt.show()\n"
   ]
  },
  {
   "cell_type": "code",
   "execution_count": 20,
   "id": "a51c4577",
   "metadata": {},
   "outputs": [],
   "source": [
    "threshold = 40\n",
    "\n",
    "# Count frequencies\n",
    "app_freq = train_cv['app_code'].value_counts()\n",
    "\n",
    "# Identify rare ones\n",
    "rare_apps = app_freq[app_freq < threshold].index\n",
    "\n",
    "# Create cleaned column\n",
    "train_cv['app_code_cleaned'] = train_cv['app_code'].apply(lambda x: 'other' if x in rare_apps else x)"
   ]
  },
  {
   "cell_type": "code",
   "execution_count": 21,
   "id": "ed0c1297",
   "metadata": {},
   "outputs": [],
   "source": [
    "# Click rate after grouping\n",
    "app_click_rate = train_cv.groupby('app_code_cleaned')['is_click'].mean()\n",
    "\n",
    "# Map back to dataset\n",
    "train_cv['app_code_click_rate'] = train_cv['app_code_cleaned'].map(app_click_rate)\n"
   ]
  },
  {
   "cell_type": "code",
   "execution_count": 22,
   "id": "efb132ca",
   "metadata": {},
   "outputs": [
    {
     "data": {
      "text/plain": [
       "Index(['impression_id', 'impression_time', 'user_id', 'app_code', 'is_4G',\n",
       "       'is_click', 'total_views', 'avg_item_price', 'max_item_price',\n",
       "       'unique_cat1', 'unique_cat2', 'unique_cat3', 'unique_product_types',\n",
       "       'hour', 'dayofweek', 'is_weekend', 'os_version_latest',\n",
       "       'os_version_old', 'device_type_iphone', 'device_type_web',\n",
       "       'app_code_click_rate', 'app_code_cleaned'],\n",
       "      dtype='object')"
      ]
     },
     "execution_count": 22,
     "metadata": {},
     "output_type": "execute_result"
    }
   ],
   "source": [
    "train_cv.columns"
   ]
  },
  {
   "cell_type": "code",
   "execution_count": 23,
   "id": "04f48152",
   "metadata": {},
   "outputs": [],
   "source": [
    "features = [\n",
    "    'app_code', 'os_version_latest','os_version_old','is_4G',\n",
    "    'hour', 'dayofweek', 'is_weekend',\n",
    "    'device_type_iphone', 'device_type_web',\n",
    "    'total_views', 'avg_item_price', 'max_item_price',\n",
    "    'unique_cat1', 'unique_cat2', 'unique_cat3', 'unique_product_types'\n",
    "]\n",
    "target = 'is_click'"
   ]
  },
  {
   "cell_type": "code",
   "execution_count": 24,
   "id": "bcb21a67",
   "metadata": {},
   "outputs": [],
   "source": [
    "# poly = PolynomialFeatures(degree=2, interaction_only=False, include_bias=False)\n",
    "# poly_features = poly.fit_transform(train_cv[features])  # Replace X with your feature matrix\n",
    "# poly_feature_names = poly.get_feature_names_out(train_cv[features].columns)\n",
    "# X_poly = pd.DataFrame(poly_features, columns=poly_feature_names, index=train_cv[features].index)\n",
    "\n",
    "# print(f\"✅ Added {X_poly.shape[1] - X.shape[1]} polynomial & interaction features.\")"
   ]
  },
  {
   "cell_type": "code",
   "execution_count": null,
   "id": "b742113b",
   "metadata": {},
   "outputs": [],
   "source": [
    "# from sklearn.feature_selection import SelectKBest, mutual_info_classif\n",
    "\n",
    "# # 5️⃣ Feature Selection with Mutual Information\n",
    "# # Select top k features (max 30 or total available)\n",
    "# mi_selector = SelectKBest(mutual_info_classif, k=min(10, train_cv[features].shape[1]))\n",
    "\n",
    "# # Fit selector on X, y\n",
    "# X_selected = mi_selector.fit_transform(train_cv[features], train_cv[target])\n",
    "\n",
    "# # Get the names of selected features\n",
    "# selected_feature_names = train_cv[features].columns[mi_selector.get_support()]\n",
    "\n",
    "# # Replace X with selected features\n",
    "# X = pd.DataFrame(X_selected, columns=selected_feature_names, index=train_cv[features].index)\n",
    "\n",
    "# print(f\"✅ Selected top {X.shape[1]} features using Mutual Information: {list(selected_feature_names)}\")"
   ]
  },
  {
   "cell_type": "code",
   "execution_count": null,
   "id": "bc3caf46",
   "metadata": {},
   "outputs": [
    {
     "name": "stdout",
     "output_type": "stream",
     "text": [
      "Before undersampling: is_click\n",
      "0    10391260\n",
      "1      661621\n",
      "Name: count, dtype: int64\n",
      "After undersampling: is_click\n",
      "0    661621\n",
      "1    661621\n",
      "Name: count, dtype: int64\n"
     ]
    }
   ],
   "source": [
    "import pandas as pd\n",
    "\n",
    "# Example: df is your dataset\n",
    "# df = pd.read_csv(\"your_file.csv\")\n",
    "\n",
    "# Separate majority and minority classes\n",
    "majority_class = train_cv[train_cv[target] == 0]\n",
    "minority_class = train_cv[train_cv[target] == 1]\n",
    "\n",
    "# Undersample majority class to match minority count\n",
    "majority_class_undersampled = majority_class.sample(\n",
    "    n=len(minority_class),\n",
    "    random_state=42\n",
    ")\n",
    "\n",
    "# Combine minority class with undersampled majority class\n",
    "df_balanced = pd.concat([minority_class, majority_class_undersampled])\n",
    "\n",
    "# Shuffle the resulting dataframe\n",
    "df_balanced = df_balanced.sample(frac=1, random_state=42).reset_index(drop=True)\n",
    "\n",
    "print(\"Before undersampling:\", train_cv[target].value_counts())\n",
    "print(\"After undersampling:\", df_balanced[target].value_counts())\n",
    "\n",
    "# Now df_balanced can be used for training\n"
   ]
  },
  {
   "cell_type": "code",
   "execution_count": null,
   "id": "407dfa67",
   "metadata": {},
   "outputs": [
    {
     "name": "stdout",
     "output_type": "stream",
     "text": [
      "Classification Report:\n",
      "               precision    recall  f1-score   support\n",
      "\n",
      "           0       0.76      0.74      0.75    132411\n",
      "           1       0.75      0.77      0.76    132238\n",
      "\n",
      "    accuracy                           0.76    264649\n",
      "   macro avg       0.76      0.76      0.76    264649\n",
      "weighted avg       0.76      0.76      0.76    264649\n",
      "\n",
      "ROC-AUC Score: 0.8412026867805595\n",
      "Confusion Matrix:\n",
      " [[ 98453  33958]\n",
      " [ 30798 101440]]\n"
     ]
    },
    {
     "data": {
      "text/plain": [
       "<Axes: >"
      ]
     },
     "execution_count": 32,
     "metadata": {},
     "output_type": "execute_result"
    },
    {
     "data": {
      "image/png": "[encoded data removed]",
      "text/plain": [
       "<Figure size 640x480 with 1 Axes>"
      ]
     },
     "metadata": {},
     "output_type": "display_data"
    }
   ],
   "source": [
    "from sklearn.model_selection import train_test_split, GridSearchCV\n",
    "from sklearn.ensemble import RandomForestClassifier\n",
    "from sklearn.metrics import classification_report, confusion_matrix, roc_auc_score\n",
    "import pandas as pd\n",
    "\n",
    "# 1. Train-test split\n",
    "X = df_balanced[features]  # Replace 'target' with your target column name\n",
    "y = df_balanced[target]\n",
    "X_train, X_test, y_train, y_test = train_test_split(X, y, test_size=0.2, random_state=42)\n",
    "\n",
    "# 2. Baseline Model\n",
    "model = RandomForestClassifier( random_state=42,\n",
    "    n_estimators=50,       # fewer trees\n",
    "    max_depth=10,          # limit depth\n",
    "    n_jobs=-1 ,\n",
    "    class_weight='balanced'\n",
    "    )\n",
    "model.fit(X_train, y_train)\n",
    "\n",
    "# 3. Predictions\n",
    "y_pred = model.predict(X_test)\n",
    "y_pred_proba = model.predict_proba(X_test)[:, 1]\n",
    "\n",
    "# 4. Evaluation\n",
    "print(\"Classification Report:\\n\", classification_report(y_test, y_pred))\n",
    "print(\"ROC-AUC Score:\", roc_auc_score(y_test, y_pred_proba))\n",
    "print(\"Confusion Matrix:\\n\", confusion_matrix(y_test, y_pred))\n",
    "\n",
    "# 5. Feature Importance\n",
    "feat_importances = pd.Series(model.feature_importances_, index=X.columns)\n",
    "feat_importances.nlargest(10).plot(kind='barh')"
   ]
  }
 ],
 "metadata": {
  "kernelspec": {
   "display_name": ".venv",
   "language": "python",
   "name": "python3"
  },
  "language_info": {
   "codemirror_mode": {
    "name": "ipython",
    "version": 3
   },
   "file_extension": ".py",
   "mimetype": "text/x-python",
   "name": "python",
   "nbconvert_exporter": "python",
   "pygments_lexer": "ipython3",
   "version": "3.13.5"
  }
 },
 "nbformat": 4,
 "nbformat_minor": 5
}
