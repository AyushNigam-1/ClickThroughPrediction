{
 "cells": [
  {
   "cell_type": "code",
   "execution_count": null,
   "id": "800d4733",
   "metadata": {},
   "outputs": [],
   "source": [
    "import pandas as pd\n",
    "import numpy as np\n",
    "import matplotlib.pyplot as plt\n",
    "import seaborn as sns\n",
    "import datetime as dt\n",
    "import warnings\n",
    "import sklearn\n",
    "warnings.filterwarnings(\"ignore\")\n"
   ]
  },
  {
   "cell_type": "code",
   "execution_count": 40,
   "id": "146a00e8",
   "metadata": {},
   "outputs": [
    {
     "name": "stdout",
     "output_type": "stream",
     "text": [
      "['impression_id', 'impression_time', 'user_id', 'app_code', 'os_version', 'is_4G', 'is_click'] ['item_id', 'item_price', 'category_1', 'category_2', 'category_3', 'product_type'] ['server_time', 'device_type', 'session_id', 'user_id', 'item_id']\n"
     ]
    }
   ],
   "source": [
    "train = pd.read_csv('train_adc/train.csv')\n",
    "items = pd.read_csv('train_adc/item_data.csv')\n",
    "view_logs = pd.read_csv('train_adc/view_log.csv')\n",
    "\n",
    "print(train.columns.tolist(),items.columns.tolist(),view_logs.columns.tolist())"
   ]
  },
  {
   "cell_type": "code",
   "execution_count": 14,
   "id": "e449b756",
   "metadata": {},
   "outputs": [
    {
     "name": "stdout",
     "output_type": "stream",
     "text": [
      "\n",
      "Train Info:\n",
      "<class 'pandas.core.frame.DataFrame'>\n",
      "RangeIndex: 237609 entries, 0 to 237608\n",
      "Data columns (total 7 columns):\n",
      " #   Column           Non-Null Count   Dtype \n",
      "---  ------           --------------   ----- \n",
      " 0   impression_id    237609 non-null  object\n",
      " 1   impression_time  237609 non-null  object\n",
      " 2   user_id          237609 non-null  int64 \n",
      " 3   app_code         237609 non-null  int64 \n",
      " 4   os_version       237609 non-null  object\n",
      " 5   is_4G            237609 non-null  int64 \n",
      " 6   is_click         237609 non-null  int64 \n",
      "dtypes: int64(4), object(3)\n",
      "memory usage: 12.7+ MB\n"
     ]
    },
    {
     "data": {
      "text/plain": [
       "None"
      ]
     },
     "metadata": {},
     "output_type": "display_data"
    },
    {
     "name": "stdout",
     "output_type": "stream",
     "text": [
      "\n",
      "Train Nulls:\n",
      "impression_id      0\n",
      "impression_time    0\n",
      "user_id            0\n",
      "app_code           0\n",
      "os_version         0\n",
      "is_4G              0\n",
      "is_click           0\n",
      "dtype: int64\n",
      "\n",
      "Items Info:\n",
      "<class 'pandas.core.frame.DataFrame'>\n",
      "RangeIndex: 132761 entries, 0 to 132760\n",
      "Data columns (total 6 columns):\n",
      " #   Column        Non-Null Count   Dtype\n",
      "---  ------        --------------   -----\n",
      " 0   item_id       132761 non-null  int64\n",
      " 1   item_price    132761 non-null  int64\n",
      " 2   category_1    132761 non-null  int64\n",
      " 3   category_2    132761 non-null  int64\n",
      " 4   category_3    132761 non-null  int64\n",
      " 5   product_type  132761 non-null  int64\n",
      "dtypes: int64(6)\n",
      "memory usage: 6.1 MB\n"
     ]
    },
    {
     "data": {
      "text/plain": [
       "None"
      ]
     },
     "metadata": {},
     "output_type": "display_data"
    },
    {
     "name": "stdout",
     "output_type": "stream",
     "text": [
      "\n",
      "Items Nulls:\n",
      "item_id         0\n",
      "item_price      0\n",
      "category_1      0\n",
      "category_2      0\n",
      "category_3      0\n",
      "product_type    0\n",
      "dtype: int64\n",
      "\n",
      "View Logs Info:\n",
      "<class 'pandas.core.frame.DataFrame'>\n",
      "RangeIndex: 3118622 entries, 0 to 3118621\n",
      "Data columns (total 5 columns):\n",
      " #   Column       Dtype \n",
      "---  ------       ----- \n",
      " 0   server_time  object\n",
      " 1   device_type  object\n",
      " 2   session_id   int64 \n",
      " 3   user_id      int64 \n",
      " 4   item_id      int64 \n",
      "dtypes: int64(3), object(2)\n",
      "memory usage: 119.0+ MB\n"
     ]
    },
    {
     "data": {
      "text/plain": [
       "None"
      ]
     },
     "metadata": {},
     "output_type": "display_data"
    },
    {
     "name": "stdout",
     "output_type": "stream",
     "text": [
      "\n",
      "View Logs Nulls:\n",
      "server_time    0\n",
      "device_type    0\n",
      "session_id     0\n",
      "user_id        0\n",
      "item_id        0\n",
      "dtype: int64\n"
     ]
    }
   ],
   "source": [
    "# Check data types and missing values\n",
    "for name, df in zip(['Train', 'Items', 'View Logs'], [train, items, view_logs]):\n",
    "    print(f\"\\n{name} Info:\")\n",
    "    display(df.info())\n",
    "    print(f\"\\n{name} Nulls:\\n{df.isnull().sum()}\")"
   ]
  },
  {
   "cell_type": "code",
   "execution_count": 15,
   "id": "8e9e677d",
   "metadata": {},
   "outputs": [],
   "source": [
    "train['impression_time'] = pd.to_datetime(train['impression_time'])\n",
    "view_logs['server_time'] = pd.to_datetime(view_logs['server_time'])"
   ]
  },
  {
   "cell_type": "code",
   "execution_count": 16,
   "id": "85a9110d",
   "metadata": {},
   "outputs": [],
   "source": [
    "# Merge view_logs with item data to enrich view log information\n",
    "view_logs = view_logs.merge(items, on='item_id', how='left')"
   ]
  },
  {
   "cell_type": "code",
   "execution_count": null,
   "id": "01b1acf8",
   "metadata": {},
   "outputs": [
    {
     "data": {
      "text/html": [
       "<div>\n",
       "<style scoped>\n",
       "    .dataframe tbody tr th:only-of-type {\n",
       "        vertical-align: middle;\n",
       "    }\n",
       "\n",
       "    .dataframe tbody tr th {\n",
       "        vertical-align: top;\n",
       "    }\n",
       "\n",
       "    .dataframe thead th {\n",
       "        text-align: right;\n",
       "    }\n",
       "</style>\n",
       "<table border=\"1\" class=\"dataframe\">\n",
       "  <thead>\n",
       "    <tr style=\"text-align: right;\">\n",
       "      <th></th>\n",
       "      <th>user_id</th>\n",
       "      <th>total_views</th>\n",
       "      <th>avg_item_price</th>\n",
       "      <th>max_item_price</th>\n",
       "      <th>unique_cat1</th>\n",
       "      <th>unique_cat2</th>\n",
       "      <th>unique_cat3</th>\n",
       "      <th>unique_product_types</th>\n",
       "    </tr>\n",
       "  </thead>\n",
       "  <tbody>\n",
       "    <tr>\n",
       "      <th>0</th>\n",
       "      <td>0</td>\n",
       "      <td>42</td>\n",
       "      <td>9395.666667</td>\n",
       "      <td>92160.0</td>\n",
       "      <td>9</td>\n",
       "      <td>15</td>\n",
       "      <td>16</td>\n",
       "      <td>18</td>\n",
       "    </tr>\n",
       "    <tr>\n",
       "      <th>1</th>\n",
       "      <td>1</td>\n",
       "      <td>8</td>\n",
       "      <td>3946.750000</td>\n",
       "      <td>12595.0</td>\n",
       "      <td>7</td>\n",
       "      <td>7</td>\n",
       "      <td>7</td>\n",
       "      <td>8</td>\n",
       "    </tr>\n",
       "    <tr>\n",
       "      <th>2</th>\n",
       "      <td>2</td>\n",
       "      <td>165</td>\n",
       "      <td>14809.509091</td>\n",
       "      <td>281536.0</td>\n",
       "      <td>15</td>\n",
       "      <td>47</td>\n",
       "      <td>82</td>\n",
       "      <td>126</td>\n",
       "    </tr>\n",
       "    <tr>\n",
       "      <th>3</th>\n",
       "      <td>3</td>\n",
       "      <td>8</td>\n",
       "      <td>7257.375000</td>\n",
       "      <td>16640.0</td>\n",
       "      <td>3</td>\n",
       "      <td>3</td>\n",
       "      <td>3</td>\n",
       "      <td>3</td>\n",
       "    </tr>\n",
       "    <tr>\n",
       "      <th>4</th>\n",
       "      <td>4</td>\n",
       "      <td>2</td>\n",
       "      <td>30114.500000</td>\n",
       "      <td>58252.0</td>\n",
       "      <td>2</td>\n",
       "      <td>2</td>\n",
       "      <td>2</td>\n",
       "      <td>2</td>\n",
       "    </tr>\n",
       "    <tr>\n",
       "      <th>...</th>\n",
       "      <td>...</td>\n",
       "      <td>...</td>\n",
       "      <td>...</td>\n",
       "      <td>...</td>\n",
       "      <td>...</td>\n",
       "      <td>...</td>\n",
       "      <td>...</td>\n",
       "      <td>...</td>\n",
       "    </tr>\n",
       "    <tr>\n",
       "      <th>89152</th>\n",
       "      <td>92582</td>\n",
       "      <td>11</td>\n",
       "      <td>4614.181818</td>\n",
       "      <td>16531.0</td>\n",
       "      <td>8</td>\n",
       "      <td>9</td>\n",
       "      <td>10</td>\n",
       "      <td>9</td>\n",
       "    </tr>\n",
       "    <tr>\n",
       "      <th>89153</th>\n",
       "      <td>92583</td>\n",
       "      <td>3</td>\n",
       "      <td>46315.000000</td>\n",
       "      <td>74944.0</td>\n",
       "      <td>2</td>\n",
       "      <td>2</td>\n",
       "      <td>2</td>\n",
       "      <td>3</td>\n",
       "    </tr>\n",
       "    <tr>\n",
       "      <th>89154</th>\n",
       "      <td>92584</td>\n",
       "      <td>3</td>\n",
       "      <td>1601.000000</td>\n",
       "      <td>1601.0</td>\n",
       "      <td>1</td>\n",
       "      <td>1</td>\n",
       "      <td>1</td>\n",
       "      <td>1</td>\n",
       "    </tr>\n",
       "    <tr>\n",
       "      <th>89155</th>\n",
       "      <td>92585</td>\n",
       "      <td>5</td>\n",
       "      <td>11696.600000</td>\n",
       "      <td>30272.0</td>\n",
       "      <td>4</td>\n",
       "      <td>4</td>\n",
       "      <td>4</td>\n",
       "      <td>4</td>\n",
       "    </tr>\n",
       "    <tr>\n",
       "      <th>89156</th>\n",
       "      <td>92586</td>\n",
       "      <td>22</td>\n",
       "      <td>11877.272727</td>\n",
       "      <td>64204.0</td>\n",
       "      <td>11</td>\n",
       "      <td>15</td>\n",
       "      <td>20</td>\n",
       "      <td>21</td>\n",
       "    </tr>\n",
       "  </tbody>\n",
       "</table>\n",
       "<p>89157 rows × 8 columns</p>\n",
       "</div>"
      ],
      "text/plain": [
       "       user_id  total_views  avg_item_price  max_item_price  unique_cat1  \\\n",
       "0            0           42     9395.666667         92160.0            9   \n",
       "1            1            8     3946.750000         12595.0            7   \n",
       "2            2          165    14809.509091        281536.0           15   \n",
       "3            3            8     7257.375000         16640.0            3   \n",
       "4            4            2    30114.500000         58252.0            2   \n",
       "...        ...          ...             ...             ...          ...   \n",
       "89152    92582           11     4614.181818         16531.0            8   \n",
       "89153    92583            3    46315.000000         74944.0            2   \n",
       "89154    92584            3     1601.000000          1601.0            1   \n",
       "89155    92585            5    11696.600000         30272.0            4   \n",
       "89156    92586           22    11877.272727         64204.0           11   \n",
       "\n",
       "       unique_cat2  unique_cat3  unique_product_types  \n",
       "0               15           16                    18  \n",
       "1                7            7                     8  \n",
       "2               47           82                   126  \n",
       "3                3            3                     3  \n",
       "4                2            2                     2  \n",
       "...            ...          ...                   ...  \n",
       "89152            9           10                     9  \n",
       "89153            2            2                     3  \n",
       "89154            1            1                     1  \n",
       "89155            4            4                     4  \n",
       "89156           15           20                    21  \n",
       "\n",
       "[89157 rows x 8 columns]"
      ]
     },
     "execution_count": 12,
     "metadata": {},
     "output_type": "execute_result"
    }
   ],
   "source": [
    "# Create user-level aggregated features from view logs\n",
    "user_view_agg = view_logs.groupby('user_id').agg({\n",
    "    'item_id': 'count',\n",
    "    'item_price': ['mean', 'max'],\n",
    "    'category_1': 'nunique',\n",
    "    'category_2': 'nunique',\n",
    "    'category_3': 'nunique',\n",
    "    'product_type': 'nunique',\n",
    "    'device_type': pd.Series.mode,  # Most common device\n",
    "\n",
    "}).reset_index()\n",
    "\n",
    "user_view_agg.columns = ['user_id', 'total_views', 'avg_item_price', 'max_item_price',\n",
    "                         'unique_cat1', 'unique_cat2', 'unique_cat3', 'unique_product_types','device_type']\n",
    "\n",
    "user_view_agg\n"
   ]
  },
  {
   "cell_type": "code",
   "execution_count": 18,
   "id": "3d213b38",
   "metadata": {},
   "outputs": [],
   "source": [
    "train.fillna({\n",
    "    'total_views': 0,\n",
    "    'avg_item_price': train['avg_item_price'].median(),\n",
    "    'max_item_price': train['max_item_price'].median(),\n",
    "    'unique_cat1': 0,\n",
    "    'unique_cat2': 0,\n",
    "    'unique_cat3': 0,\n",
    "    'unique_product_types': 0\n",
    "}, inplace=True)"
   ]
  },
  {
   "cell_type": "code",
   "execution_count": 21,
   "id": "d130f4d6",
   "metadata": {},
   "outputs": [
    {
     "data": {
      "text/plain": [
       "Text(0.5, 1.0, 'Target Distribution')"
      ]
     },
     "execution_count": 21,
     "metadata": {},
     "output_type": "execute_result"
    },
    {
     "data": {
      "image/png": "[encoded data removed]",
      "text/plain": [
       "<Figure size 640x480 with 1 Axes>"
      ]
     },
     "metadata": {},
     "output_type": "display_data"
    }
   ],
   "source": [
    "sns.countplot(data=train, x='is_click')\n",
    "plt.title('Target Distribution')\n"
   ]
  },
  {
   "cell_type": "code",
   "execution_count": 23,
   "id": "57e0e2a5",
   "metadata": {},
   "outputs": [
    {
     "data": {
      "text/plain": [
       "Index(['impression_id', 'impression_time', 'user_id', 'app_code', 'os_version',\n",
       "       'is_4G', 'is_click', 'total_views', 'avg_item_price', 'max_item_price',\n",
       "       'unique_cat1', 'unique_cat2', 'unique_cat3', 'unique_product_types'],\n",
       "      dtype='object')"
      ]
     },
     "execution_count": 23,
     "metadata": {},
     "output_type": "execute_result"
    }
   ],
   "source": [
    "train.columns"
   ]
  },
  {
   "cell_type": "code",
   "execution_count": 33,
   "id": "57a1e0bc",
   "metadata": {},
   "outputs": [
    {
     "data": {
      "image/png": "[encoded data removed]",
      "text/plain": [
       "<Figure size 800x500 with 1 Axes>"
      ]
     },
     "metadata": {},
     "output_type": "display_data"
    },
    {
     "data": {
      "image/png": "[encoded data removed]",
      "text/plain": [
       "<Figure size 600x500 with 1 Axes>"
      ]
     },
     "metadata": {},
     "output_type": "display_data"
    }
   ],
   "source": [
    "plt.figure(figsize=(8, 5))\n",
    "train.groupby('app_code')['is_click'].mean().sort_values(ascending=False).plot(kind='bar')\n",
    "plt.title('CTR by App Code')\n",
    "plt.tight_layout()\n",
    "\n",
    "# CTR by OS Version\n",
    "plt.figure(figsize=(6, 5))\n",
    "train.groupby('os_version')['is_click'].mean().sort_values(ascending=False).plot(kind='bar')\n",
    "plt.title('CTR by OS Version')\n",
    "plt.tight_layout()\n",
    "\n",
    "plt.show()"
   ]
  },
  {
   "cell_type": "code",
   "execution_count": 53,
   "id": "c9dd3ca3",
   "metadata": {},
   "outputs": [],
   "source": [
    "train['impression_time'] = pd.to_datetime(train['impression_time'])\n",
    "\n",
    "train['hour'] = train['impression_time'].dt.hour\n",
    "train['dayofweek'] = train['impression_time'].dt.dayofweek\n",
    "train['is_weekend'] = train['dayofweek'].isin([5, 6]).astype(int)"
   ]
  },
  {
   "cell_type": "code",
   "execution_count": 54,
   "id": "6463aa09",
   "metadata": {},
   "outputs": [],
   "source": [
    "# Label encoding\n",
    "from sklearn.preprocessing import LabelEncoder\n",
    "\n",
    "le = LabelEncoder()\n",
    "train['app_code'] = le.fit_transform(train['app_code'])\n",
    "train['os_version'] = le.fit_transform(train['os_version'])\n"
   ]
  },
  {
   "cell_type": "code",
   "execution_count": 39,
   "id": "64605ab7",
   "metadata": {},
   "outputs": [
    {
     "data": {
      "text/html": [
       "<div>\n",
       "<style scoped>\n",
       "    .dataframe tbody tr th:only-of-type {\n",
       "        vertical-align: middle;\n",
       "    }\n",
       "\n",
       "    .dataframe tbody tr th {\n",
       "        vertical-align: top;\n",
       "    }\n",
       "\n",
       "    .dataframe thead th {\n",
       "        text-align: right;\n",
       "    }\n",
       "</style>\n",
       "<table border=\"1\" class=\"dataframe\">\n",
       "  <thead>\n",
       "    <tr style=\"text-align: right;\">\n",
       "      <th></th>\n",
       "      <th>server_time</th>\n",
       "      <th>device_type</th>\n",
       "      <th>session_id</th>\n",
       "      <th>user_id</th>\n",
       "      <th>item_id</th>\n",
       "      <th>item_price</th>\n",
       "      <th>category_1</th>\n",
       "      <th>category_2</th>\n",
       "      <th>category_3</th>\n",
       "      <th>product_type</th>\n",
       "    </tr>\n",
       "  </thead>\n",
       "  <tbody>\n",
       "    <tr>\n",
       "      <th>0</th>\n",
       "      <td>2018-10-15 08:58:00</td>\n",
       "      <td>android</td>\n",
       "      <td>112333</td>\n",
       "      <td>4557</td>\n",
       "      <td>32970</td>\n",
       "      <td>54685.0</td>\n",
       "      <td>16.0</td>\n",
       "      <td>56.0</td>\n",
       "      <td>253.0</td>\n",
       "      <td>3184.0</td>\n",
       "    </tr>\n",
       "    <tr>\n",
       "      <th>1</th>\n",
       "      <td>2018-10-15 08:58:00</td>\n",
       "      <td>android</td>\n",
       "      <td>503590</td>\n",
       "      <td>74788</td>\n",
       "      <td>7640</td>\n",
       "      <td>1376.0</td>\n",
       "      <td>7.0</td>\n",
       "      <td>71.0</td>\n",
       "      <td>228.0</td>\n",
       "      <td>545.0</td>\n",
       "    </tr>\n",
       "    <tr>\n",
       "      <th>2</th>\n",
       "      <td>2018-10-15 08:58:00</td>\n",
       "      <td>android</td>\n",
       "      <td>573960</td>\n",
       "      <td>23628</td>\n",
       "      <td>128855</td>\n",
       "      <td>4544.0</td>\n",
       "      <td>4.0</td>\n",
       "      <td>38.0</td>\n",
       "      <td>62.0</td>\n",
       "      <td>5609.0</td>\n",
       "    </tr>\n",
       "    <tr>\n",
       "      <th>3</th>\n",
       "      <td>2018-10-15 08:58:00</td>\n",
       "      <td>android</td>\n",
       "      <td>121691</td>\n",
       "      <td>2430</td>\n",
       "      <td>12774</td>\n",
       "      <td>904.0</td>\n",
       "      <td>17.0</td>\n",
       "      <td>39.0</td>\n",
       "      <td>252.0</td>\n",
       "      <td>2740.0</td>\n",
       "    </tr>\n",
       "    <tr>\n",
       "      <th>4</th>\n",
       "      <td>2018-10-15 08:58:00</td>\n",
       "      <td>android</td>\n",
       "      <td>218564</td>\n",
       "      <td>19227</td>\n",
       "      <td>28296</td>\n",
       "      <td>2304.0</td>\n",
       "      <td>12.0</td>\n",
       "      <td>57.0</td>\n",
       "      <td>54.0</td>\n",
       "      <td>7422.0</td>\n",
       "    </tr>\n",
       "  </tbody>\n",
       "</table>\n",
       "</div>"
      ],
      "text/plain": [
       "          server_time device_type  session_id  user_id  item_id  item_price  \\\n",
       "0 2018-10-15 08:58:00     android      112333     4557    32970     54685.0   \n",
       "1 2018-10-15 08:58:00     android      503590    74788     7640      1376.0   \n",
       "2 2018-10-15 08:58:00     android      573960    23628   128855      4544.0   \n",
       "3 2018-10-15 08:58:00     android      121691     2430    12774       904.0   \n",
       "4 2018-10-15 08:58:00     android      218564    19227    28296      2304.0   \n",
       "\n",
       "   category_1  category_2  category_3  product_type  \n",
       "0        16.0        56.0       253.0        3184.0  \n",
       "1         7.0        71.0       228.0         545.0  \n",
       "2         4.0        38.0        62.0        5609.0  \n",
       "3        17.0        39.0       252.0        2740.0  \n",
       "4        12.0        57.0        54.0        7422.0  "
      ]
     },
     "execution_count": 39,
     "metadata": {},
     "output_type": "execute_result"
    }
   ],
   "source": [
    "view_logs.head()"
   ]
  },
  {
   "cell_type": "code",
   "execution_count": 55,
   "id": "a2a39722",
   "metadata": {},
   "outputs": [],
   "source": [
    "train = train.merge(user_view_agg, on='user_id', how='left')"
   ]
  },
  {
   "cell_type": "code",
   "execution_count": 44,
   "id": "a140cd0d",
   "metadata": {},
   "outputs": [
    {
     "data": {
      "image/png": "[encoded data removed]",
      "text/plain": [
       "<Figure size 1000x600 with 1 Axes>"
      ]
     },
     "metadata": {},
     "output_type": "display_data"
    }
   ],
   "source": [
    "import matplotlib.pyplot as plt\n",
    "import seaborn as sns\n",
    "\n",
    "# Count frequency of each app_code\n",
    "app_code_counts = train['app_code'].value_counts()\n",
    "\n",
    "# Plot the frequencies (log scale helps if highly skewed)\n",
    "plt.figure(figsize=(10, 6))\n",
    "sns.histplot(app_code_counts, bins=50, kde=False)\n",
    "plt.title('App Code Frequency Distribution')\n",
    "plt.xlabel('Frequency of App Code')\n",
    "plt.ylabel('Number of App Codes')\n",
    "plt.yscale('log')  # Optional: Log scale helps if data is very skewed\n",
    "plt.grid(True)\n",
    "plt.show()"
   ]
  },
  {
   "cell_type": "code",
   "execution_count": 56,
   "id": "70c3911d",
   "metadata": {},
   "outputs": [],
   "source": [
    "app_code_counts = train['app_code'].value_counts()\n",
    "rare_app_codes = app_code_counts[app_code_counts < 50].index\n",
    "train['app_code_grouped'] = train['app_code'].apply(lambda x: 'other' if x in rare_app_codes else x)"
   ]
  },
  {
   "cell_type": "code",
   "execution_count": 57,
   "id": "e8706875",
   "metadata": {},
   "outputs": [
    {
     "ename": "KeyError",
     "evalue": "'unique_cat1'",
     "output_type": "error",
     "traceback": [
      "\u001b[31m---------------------------------------------------------------------------\u001b[39m",
      "\u001b[31mKeyError\u001b[39m                                  Traceback (most recent call last)",
      "\u001b[36mFile \u001b[39m\u001b[32mc:\\Projects\\ClickRatePrediction\\.venv\\Lib\\site-packages\\pandas\\core\\indexes\\base.py:3812\u001b[39m, in \u001b[36mIndex.get_loc\u001b[39m\u001b[34m(self, key)\u001b[39m\n\u001b[32m   3811\u001b[39m \u001b[38;5;28;01mtry\u001b[39;00m:\n\u001b[32m-> \u001b[39m\u001b[32m3812\u001b[39m     \u001b[38;5;28;01mreturn\u001b[39;00m \u001b[38;5;28;43mself\u001b[39;49m\u001b[43m.\u001b[49m\u001b[43m_engine\u001b[49m\u001b[43m.\u001b[49m\u001b[43mget_loc\u001b[49m\u001b[43m(\u001b[49m\u001b[43mcasted_key\u001b[49m\u001b[43m)\u001b[49m\n\u001b[32m   3813\u001b[39m \u001b[38;5;28;01mexcept\u001b[39;00m \u001b[38;5;167;01mKeyError\u001b[39;00m \u001b[38;5;28;01mas\u001b[39;00m err:\n",
      "\u001b[36mFile \u001b[39m\u001b[32mpandas/_libs/index.pyx:167\u001b[39m, in \u001b[36mpandas._libs.index.IndexEngine.get_loc\u001b[39m\u001b[34m()\u001b[39m\n",
      "\u001b[36mFile \u001b[39m\u001b[32mpandas/_libs/index.pyx:196\u001b[39m, in \u001b[36mpandas._libs.index.IndexEngine.get_loc\u001b[39m\u001b[34m()\u001b[39m\n",
      "\u001b[36mFile \u001b[39m\u001b[32mpandas/_libs/hashtable_class_helper.pxi:7088\u001b[39m, in \u001b[36mpandas._libs.hashtable.PyObjectHashTable.get_item\u001b[39m\u001b[34m()\u001b[39m\n",
      "\u001b[36mFile \u001b[39m\u001b[32mpandas/_libs/hashtable_class_helper.pxi:7096\u001b[39m, in \u001b[36mpandas._libs.hashtable.PyObjectHashTable.get_item\u001b[39m\u001b[34m()\u001b[39m\n",
      "\u001b[31mKeyError\u001b[39m: 'unique_cat1'",
      "\nThe above exception was the direct cause of the following exception:\n",
      "\u001b[31mKeyError\u001b[39m                                  Traceback (most recent call last)",
      "\u001b[36mCell\u001b[39m\u001b[36m \u001b[39m\u001b[32mIn[57]\u001b[39m\u001b[32m, line 2\u001b[39m\n\u001b[32m      1\u001b[39m \u001b[38;5;28;01mfor\u001b[39;00m col \u001b[38;5;129;01min\u001b[39;00m [\u001b[33m'\u001b[39m\u001b[33munique_cat1\u001b[39m\u001b[33m'\u001b[39m, \u001b[33m'\u001b[39m\u001b[33munique_cat2\u001b[39m\u001b[33m'\u001b[39m, \u001b[33m'\u001b[39m\u001b[33munique_cat3\u001b[39m\u001b[33m'\u001b[39m, \u001b[33m'\u001b[39m\u001b[33munique_product_types\u001b[39m\u001b[33m'\u001b[39m]:\n\u001b[32m----> \u001b[39m\u001b[32m2\u001b[39m     train[col] = \u001b[43mtrain\u001b[49m\u001b[43m[\u001b[49m\u001b[43mcol\u001b[49m\u001b[43m]\u001b[49m.astype(\u001b[38;5;28mstr\u001b[39m)  \u001b[38;5;66;03m# If needed\u001b[39;00m\n\u001b[32m      3\u001b[39m     train[col] = le.fit_transform(train[col])\n",
      "\u001b[36mFile \u001b[39m\u001b[32mc:\\Projects\\ClickRatePrediction\\.venv\\Lib\\site-packages\\pandas\\core\\frame.py:4107\u001b[39m, in \u001b[36mDataFrame.__getitem__\u001b[39m\u001b[34m(self, key)\u001b[39m\n\u001b[32m   4105\u001b[39m \u001b[38;5;28;01mif\u001b[39;00m \u001b[38;5;28mself\u001b[39m.columns.nlevels > \u001b[32m1\u001b[39m:\n\u001b[32m   4106\u001b[39m     \u001b[38;5;28;01mreturn\u001b[39;00m \u001b[38;5;28mself\u001b[39m._getitem_multilevel(key)\n\u001b[32m-> \u001b[39m\u001b[32m4107\u001b[39m indexer = \u001b[38;5;28;43mself\u001b[39;49m\u001b[43m.\u001b[49m\u001b[43mcolumns\u001b[49m\u001b[43m.\u001b[49m\u001b[43mget_loc\u001b[49m\u001b[43m(\u001b[49m\u001b[43mkey\u001b[49m\u001b[43m)\u001b[49m\n\u001b[32m   4108\u001b[39m \u001b[38;5;28;01mif\u001b[39;00m is_integer(indexer):\n\u001b[32m   4109\u001b[39m     indexer = [indexer]\n",
      "\u001b[36mFile \u001b[39m\u001b[32mc:\\Projects\\ClickRatePrediction\\.venv\\Lib\\site-packages\\pandas\\core\\indexes\\base.py:3819\u001b[39m, in \u001b[36mIndex.get_loc\u001b[39m\u001b[34m(self, key)\u001b[39m\n\u001b[32m   3814\u001b[39m     \u001b[38;5;28;01mif\u001b[39;00m \u001b[38;5;28misinstance\u001b[39m(casted_key, \u001b[38;5;28mslice\u001b[39m) \u001b[38;5;129;01mor\u001b[39;00m (\n\u001b[32m   3815\u001b[39m         \u001b[38;5;28misinstance\u001b[39m(casted_key, abc.Iterable)\n\u001b[32m   3816\u001b[39m         \u001b[38;5;129;01mand\u001b[39;00m \u001b[38;5;28many\u001b[39m(\u001b[38;5;28misinstance\u001b[39m(x, \u001b[38;5;28mslice\u001b[39m) \u001b[38;5;28;01mfor\u001b[39;00m x \u001b[38;5;129;01min\u001b[39;00m casted_key)\n\u001b[32m   3817\u001b[39m     ):\n\u001b[32m   3818\u001b[39m         \u001b[38;5;28;01mraise\u001b[39;00m InvalidIndexError(key)\n\u001b[32m-> \u001b[39m\u001b[32m3819\u001b[39m     \u001b[38;5;28;01mraise\u001b[39;00m \u001b[38;5;167;01mKeyError\u001b[39;00m(key) \u001b[38;5;28;01mfrom\u001b[39;00m\u001b[38;5;250m \u001b[39m\u001b[34;01merr\u001b[39;00m\n\u001b[32m   3820\u001b[39m \u001b[38;5;28;01mexcept\u001b[39;00m \u001b[38;5;167;01mTypeError\u001b[39;00m:\n\u001b[32m   3821\u001b[39m     \u001b[38;5;66;03m# If we have a listlike key, _check_indexing_error will raise\u001b[39;00m\n\u001b[32m   3822\u001b[39m     \u001b[38;5;66;03m#  InvalidIndexError. Otherwise we fall through and re-raise\u001b[39;00m\n\u001b[32m   3823\u001b[39m     \u001b[38;5;66;03m#  the TypeError.\u001b[39;00m\n\u001b[32m   3824\u001b[39m     \u001b[38;5;28mself\u001b[39m._check_indexing_error(key)\n",
      "\u001b[31mKeyError\u001b[39m: 'unique_cat1'"
     ]
    }
   ],
   "source": [
    "for col in ['unique_cat1', 'unique_cat2', 'unique_cat3', 'unique_product_types']:\n",
    "    train[col] = train[col].astype(str)  # If needed\n",
    "    train[col] = le.fit_transform(train[col])\n"
   ]
  },
  {
   "cell_type": "code",
   "execution_count": 49,
   "id": "9cd64c5e",
   "metadata": {},
   "outputs": [],
   "source": [
    "features = [\n",
    "    'source', 'app_code', 'os_version',\n",
    "    'hour', 'dayofweek', 'is_weekend',\n",
    "    'item_price', 'category_1', 'category_2', 'category_3', 'product_type',\n",
    "    'view_count', 'avg_item_price', 'max_item_price',\n",
    "    'unique_cat1', 'unique_cat2', 'unique_cat3', 'unique_product_types'\n",
    "]\n",
    "target = 'is_click'\n"
   ]
  },
  {
   "cell_type": "code",
   "execution_count": 52,
   "id": "d87ed00b",
   "metadata": {},
   "outputs": [
    {
     "data": {
      "text/plain": [
       "['impression_id',\n",
       " 'impression_time',\n",
       " 'user_id',\n",
       " 'app_code',\n",
       " 'os_version',\n",
       " 'is_4G',\n",
       " 'is_click',\n",
       " 'total_views',\n",
       " 'avg_item_price',\n",
       " 'max_item_price',\n",
       " 'unique_cat1',\n",
       " 'unique_cat2',\n",
       " 'unique_cat3',\n",
       " 'unique_product_types',\n",
       " 'app_code_grouped']"
      ]
     },
     "execution_count": 52,
     "metadata": {},
     "output_type": "execute_result"
    }
   ],
   "source": [
    "train.columns.tolist()"
   ]
  },
  {
   "cell_type": "code",
   "execution_count": 50,
   "id": "7d7bd6a3",
   "metadata": {},
   "outputs": [
    {
     "ename": "KeyError",
     "evalue": "'source'",
     "output_type": "error",
     "traceback": [
      "\u001b[31m---------------------------------------------------------------------------\u001b[39m",
      "\u001b[31mKeyError\u001b[39m                                  Traceback (most recent call last)",
      "\u001b[36mFile \u001b[39m\u001b[32mc:\\Projects\\ClickRatePrediction\\.venv\\Lib\\site-packages\\pandas\\core\\indexes\\base.py:3812\u001b[39m, in \u001b[36mIndex.get_loc\u001b[39m\u001b[34m(self, key)\u001b[39m\n\u001b[32m   3811\u001b[39m \u001b[38;5;28;01mtry\u001b[39;00m:\n\u001b[32m-> \u001b[39m\u001b[32m3812\u001b[39m     \u001b[38;5;28;01mreturn\u001b[39;00m \u001b[38;5;28;43mself\u001b[39;49m\u001b[43m.\u001b[49m\u001b[43m_engine\u001b[49m\u001b[43m.\u001b[49m\u001b[43mget_loc\u001b[49m\u001b[43m(\u001b[49m\u001b[43mcasted_key\u001b[49m\u001b[43m)\u001b[49m\n\u001b[32m   3813\u001b[39m \u001b[38;5;28;01mexcept\u001b[39;00m \u001b[38;5;167;01mKeyError\u001b[39;00m \u001b[38;5;28;01mas\u001b[39;00m err:\n",
      "\u001b[36mFile \u001b[39m\u001b[32mpandas/_libs/index.pyx:167\u001b[39m, in \u001b[36mpandas._libs.index.IndexEngine.get_loc\u001b[39m\u001b[34m()\u001b[39m\n",
      "\u001b[36mFile \u001b[39m\u001b[32mpandas/_libs/index.pyx:196\u001b[39m, in \u001b[36mpandas._libs.index.IndexEngine.get_loc\u001b[39m\u001b[34m()\u001b[39m\n",
      "\u001b[36mFile \u001b[39m\u001b[32mpandas/_libs/hashtable_class_helper.pxi:7088\u001b[39m, in \u001b[36mpandas._libs.hashtable.PyObjectHashTable.get_item\u001b[39m\u001b[34m()\u001b[39m\n",
      "\u001b[36mFile \u001b[39m\u001b[32mpandas/_libs/hashtable_class_helper.pxi:7096\u001b[39m, in \u001b[36mpandas._libs.hashtable.PyObjectHashTable.get_item\u001b[39m\u001b[34m()\u001b[39m\n",
      "\u001b[31mKeyError\u001b[39m: 'source'",
      "\nThe above exception was the direct cause of the following exception:\n",
      "\u001b[31mKeyError\u001b[39m                                  Traceback (most recent call last)",
      "\u001b[36mCell\u001b[39m\u001b[36m \u001b[39m\u001b[32mIn[50]\u001b[39m\u001b[32m, line 1\u001b[39m\n\u001b[32m----> \u001b[39m\u001b[32m1\u001b[39m train[\u001b[33m'\u001b[39m\u001b[33msource\u001b[39m\u001b[33m'\u001b[39m] = le.fit_transform(\u001b[43mtrain\u001b[49m\u001b[43m[\u001b[49m\u001b[33;43m'\u001b[39;49m\u001b[33;43msource\u001b[39;49m\u001b[33;43m'\u001b[39;49m\u001b[43m]\u001b[49m)\n",
      "\u001b[36mFile \u001b[39m\u001b[32mc:\\Projects\\ClickRatePrediction\\.venv\\Lib\\site-packages\\pandas\\core\\frame.py:4107\u001b[39m, in \u001b[36mDataFrame.__getitem__\u001b[39m\u001b[34m(self, key)\u001b[39m\n\u001b[32m   4105\u001b[39m \u001b[38;5;28;01mif\u001b[39;00m \u001b[38;5;28mself\u001b[39m.columns.nlevels > \u001b[32m1\u001b[39m:\n\u001b[32m   4106\u001b[39m     \u001b[38;5;28;01mreturn\u001b[39;00m \u001b[38;5;28mself\u001b[39m._getitem_multilevel(key)\n\u001b[32m-> \u001b[39m\u001b[32m4107\u001b[39m indexer = \u001b[38;5;28;43mself\u001b[39;49m\u001b[43m.\u001b[49m\u001b[43mcolumns\u001b[49m\u001b[43m.\u001b[49m\u001b[43mget_loc\u001b[49m\u001b[43m(\u001b[49m\u001b[43mkey\u001b[49m\u001b[43m)\u001b[49m\n\u001b[32m   4108\u001b[39m \u001b[38;5;28;01mif\u001b[39;00m is_integer(indexer):\n\u001b[32m   4109\u001b[39m     indexer = [indexer]\n",
      "\u001b[36mFile \u001b[39m\u001b[32mc:\\Projects\\ClickRatePrediction\\.venv\\Lib\\site-packages\\pandas\\core\\indexes\\base.py:3819\u001b[39m, in \u001b[36mIndex.get_loc\u001b[39m\u001b[34m(self, key)\u001b[39m\n\u001b[32m   3814\u001b[39m     \u001b[38;5;28;01mif\u001b[39;00m \u001b[38;5;28misinstance\u001b[39m(casted_key, \u001b[38;5;28mslice\u001b[39m) \u001b[38;5;129;01mor\u001b[39;00m (\n\u001b[32m   3815\u001b[39m         \u001b[38;5;28misinstance\u001b[39m(casted_key, abc.Iterable)\n\u001b[32m   3816\u001b[39m         \u001b[38;5;129;01mand\u001b[39;00m \u001b[38;5;28many\u001b[39m(\u001b[38;5;28misinstance\u001b[39m(x, \u001b[38;5;28mslice\u001b[39m) \u001b[38;5;28;01mfor\u001b[39;00m x \u001b[38;5;129;01min\u001b[39;00m casted_key)\n\u001b[32m   3817\u001b[39m     ):\n\u001b[32m   3818\u001b[39m         \u001b[38;5;28;01mraise\u001b[39;00m InvalidIndexError(key)\n\u001b[32m-> \u001b[39m\u001b[32m3819\u001b[39m     \u001b[38;5;28;01mraise\u001b[39;00m \u001b[38;5;167;01mKeyError\u001b[39;00m(key) \u001b[38;5;28;01mfrom\u001b[39;00m\u001b[38;5;250m \u001b[39m\u001b[34;01merr\u001b[39;00m\n\u001b[32m   3820\u001b[39m \u001b[38;5;28;01mexcept\u001b[39;00m \u001b[38;5;167;01mTypeError\u001b[39;00m:\n\u001b[32m   3821\u001b[39m     \u001b[38;5;66;03m# If we have a listlike key, _check_indexing_error will raise\u001b[39;00m\n\u001b[32m   3822\u001b[39m     \u001b[38;5;66;03m#  InvalidIndexError. Otherwise we fall through and re-raise\u001b[39;00m\n\u001b[32m   3823\u001b[39m     \u001b[38;5;66;03m#  the TypeError.\u001b[39;00m\n\u001b[32m   3824\u001b[39m     \u001b[38;5;28mself\u001b[39m._check_indexing_error(key)\n",
      "\u001b[31mKeyError\u001b[39m: 'source'"
     ]
    }
   ],
   "source": [
    "train['source'] = le.fit_transform(train['source'])\n"
   ]
  }
 ],
 "metadata": {
  "kernelspec": {
   "display_name": ".venv",
   "language": "python",
   "name": "python3"
  },
  "language_info": {
   "codemirror_mode": {
    "name": "ipython",
    "version": 3
   },
   "file_extension": ".py",
   "mimetype": "text/x-python",
   "name": "python",
   "nbconvert_exporter": "python",
   "pygments_lexer": "ipython3",
   "version": "3.13.5"
  }
 },
 "nbformat": 4,
 "nbformat_minor": 5
}
