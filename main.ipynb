{
 "cells": [
  {
   "cell_type": "code",
   "execution_count": 1,
   "id": "800d4733",
   "metadata": {},
   "outputs": [],
   "source": [
    "import pandas as pd\n",
    "import numpy as np\n",
    "import matplotlib.pyplot as plt\n",
    "import seaborn as sns\n",
    "import warnings\n",
    "from sklearn.preprocessing import LabelEncoder , OneHotEncoder\n",
    "from sklearn.preprocessing import PolynomialFeatures, KBinsDiscretizer\n",
    "from sklearn.model_selection import train_test_split, GridSearchCV\n",
    "\n",
    "warnings.filterwarnings(\"ignore\")\n"
   ]
  },
  {
   "cell_type": "code",
   "execution_count": 2,
   "id": "146a00e8",
   "metadata": {},
   "outputs": [
    {
     "name": "stdout",
     "output_type": "stream",
     "text": [
      "['impression_id', 'impression_time', 'user_id', 'app_code', 'os_version', 'is_4G', 'is_click'] ['item_id', 'item_price', 'category_1', 'category_2', 'category_3', 'product_type'] ['server_time', 'device_type', 'session_id', 'user_id', 'item_id']\n"
     ]
    }
   ],
   "source": [
    "train_cv = pd.read_csv('train_adc/train.csv')\n",
    "items = pd.read_csv('train_adc/item_data.csv')\n",
    "view_logs = pd.read_csv('train_adc/view_log.csv')\n",
    "\n",
    "print(train_cv.columns.tolist(),items.columns.tolist(),view_logs.columns.tolist())"
   ]
  },
  {
   "cell_type": "code",
   "execution_count": 3,
   "id": "5f0c5536",
   "metadata": {},
   "outputs": [
    {
     "name": "stdout",
     "output_type": "stream",
     "text": [
      "\n",
      "Exact duplicates in train: 0\n",
      "Exact duplicates in items: 0\n",
      "Exact duplicates in view_logs: 101126\n"
     ]
    }
   ],
   "source": [
    "print(\"\\nExact duplicates in train:\", train_cv.duplicated().sum())\n",
    "print(\"Exact duplicates in items:\", items.duplicated().sum())\n",
    "print(\"Exact duplicates in view_logs:\", view_logs.duplicated().sum())\n",
    "\n",
    "# Check if \"train\" has duplicate IDs (if ID column exists)\n",
    "if 'id' in train_cv.columns:\n",
    "    print(\"\\nDuplicate train IDs:\", train_cv['id'].duplicated().sum())"
   ]
  },
  {
   "cell_type": "code",
   "execution_count": 5,
   "id": "ed78a038",
   "metadata": {},
   "outputs": [
    {
     "data": {
      "text/plain": [
       "((237609, 7), (3017496, 5))"
      ]
     },
     "execution_count": 5,
     "metadata": {},
     "output_type": "execute_result"
    }
   ],
   "source": [
    "view_logs = view_logs.drop_duplicates()\n",
    "train_cv.shape , view_logs.shape"
   ]
  },
  {
   "cell_type": "code",
   "execution_count": null,
   "id": "e449b756",
   "metadata": {},
   "outputs": [
    {
     "name": "stdout",
     "output_type": "stream",
     "text": [
      "\n",
      "Train Nulls:\n",
      "impression_id      0\n",
      "impression_time    0\n",
      "user_id            0\n",
      "app_code           0\n",
      "os_version         0\n",
      "is_4G              0\n",
      "is_click           0\n",
      "dtype: int64\n",
      "\n",
      "Items Nulls:\n",
      "item_id         0\n",
      "item_price      0\n",
      "category_1      0\n",
      "category_2      0\n",
      "category_3      0\n",
      "product_type    0\n",
      "dtype: int64\n",
      "\n",
      "View Logs Nulls:\n",
      "server_time    0\n",
      "device_type    0\n",
      "session_id     0\n",
      "user_id        0\n",
      "item_id        0\n",
      "dtype: int64\n"
     ]
    }
   ],
   "source": [
    "# Check data types and missing values\n",
    "for name, df in zip(['Train', 'Items', 'View Logs'], [train_cv, items, view_logs]):\n",
    "    print(f\"\\n{name} Info:\")\n",
    "    display(df.info())\n",
    "    print(f\"\\n{name} Nulls:\\n{df.isnull().sum()}\")"
   ]
  },
  {
   "cell_type": "code",
   "execution_count": 6,
   "id": "cd18bc78",
   "metadata": {},
   "outputs": [],
   "source": [
    "# import pandas as pd\n",
    "# import matplotlib.pyplot as plt\n",
    "# import seaborn as sns\n",
    "# from scipy.stats import shapiro, normaltest, probplot\n",
    "\n",
    "# # Example: df is your DataFrame\n",
    "# cols = ['avg_item_price', 'max_item_price']\n",
    "\n",
    "# for col in cols:\n",
    "#     print(f\"\\n--- Checking Normality for: {col} ---\")\n",
    "    \n",
    "#     # Histogram\n",
    "#     sns.histplot(train_cv[col].dropna(), kde=True)\n",
    "#     plt.title(f\"Histogram of {col}\")\n",
    "#     plt.show()\n",
    "    \n",
    "#     # Q-Q Plot\n",
    "#     probplot(df[col].dropna(), dist=\"norm\", plot=plt)\n",
    "#     plt.title(f\"Q-Q Plot of {col}\")\n",
    "#     plt.show()\n",
    "    \n",
    "#     # Shapiro-Wilk test (good for small samples)\n",
    "#     stat, p = shapiro(df[col].dropna())\n",
    "#     print(f\"Shapiro-Wilk Test → Statistic={stat:.3f}, p={p:.3f}\")\n",
    "    \n",
    "#     # D’Agostino and Pearson’s test (good for larger samples)\n",
    "#     stat, p = normaltest(df[col].dropna())\n",
    "#     print(f\"D’Agostino Test → Statistic={stat:.3f}, p={p:.3f}\")\n",
    "    \n",
    "#     if p > 0.05:\n",
    "#         print(f\"{col} looks **normal** (fail to reject H0).\")\n",
    "#     else:\n",
    "#         print(f\"{col} is **not normal** (reject H0).\")\n"
   ]
  },
  {
   "cell_type": "code",
   "execution_count": 7,
   "id": "675044b8",
   "metadata": {},
   "outputs": [],
   "source": [
    "# df['avg_item_price'].fillna(df['avg_item_price'].median(), inplace=True)\n",
    "# df['max_item_price'].fillna(df['max_item_price'].median(), inplace=True)\n",
    "# df.drop(columns=[\"item_price\", \"category_1\", \"category_2\", \"category_3\", \"product_type\"], inplace=True)\n"
   ]
  },
  {
   "cell_type": "code",
   "execution_count": 6,
   "id": "8e9e677d",
   "metadata": {},
   "outputs": [],
   "source": [
    "train_cv['impression_time'] = pd.to_datetime(train_cv['impression_time'])\n",
    "view_logs['server_time'] = pd.to_datetime(view_logs['server_time'])"
   ]
  },
  {
   "cell_type": "code",
   "execution_count": 7,
   "id": "85a9110d",
   "metadata": {},
   "outputs": [],
   "source": [
    "# Merge view_logs with item data to enrich view log information\n",
    "view_logs = view_logs.merge(items, on='item_id', how='left')"
   ]
  },
  {
   "cell_type": "code",
   "execution_count": 8,
   "id": "c83ea251",
   "metadata": {},
   "outputs": [
    {
     "data": {
      "text/plain": [
       "np.int64(0)"
      ]
     },
     "execution_count": 8,
     "metadata": {},
     "output_type": "execute_result"
    }
   ],
   "source": [
    "view_logs.duplicated().sum()"
   ]
  },
  {
   "cell_type": "code",
   "execution_count": 9,
   "id": "01b1acf8",
   "metadata": {},
   "outputs": [],
   "source": [
    "# Create user-level aggregated features from view logs without NaNs\n",
    "user_view_agg = (\n",
    "    view_logs.groupby('user_id', dropna=False)\n",
    "    .agg({\n",
    "        'item_id': lambda x: x.count(),  # count non-NaN\n",
    "        'item_price': [\n",
    "            lambda x: x.mean(skipna=True),\n",
    "            lambda x: x.max(skipna=True)\n",
    "        ],\n",
    "        'category_1': lambda x: x.nunique(dropna=True),\n",
    "        'category_2': lambda x: x.nunique(dropna=True),\n",
    "        'category_3': lambda x: x.nunique(dropna=True),\n",
    "        'product_type': lambda x: x.nunique(dropna=True),\n",
    "    })\n",
    "    .reset_index()\n",
    ")\n",
    "\n",
    "# Rename columns\n",
    "user_view_agg.columns = [\n",
    "    'user_id', \n",
    "    'total_views', \n",
    "    'avg_item_price', \n",
    "    'max_item_price',\n",
    "    'unique_cat1', \n",
    "    'unique_cat2', \n",
    "    'unique_cat3', \n",
    "    'unique_product_types'\n",
    "]\n",
    "\n",
    "# Replace any remaining NaNs with 0 (e.g., for users with no price info)\n",
    "user_view_agg = user_view_agg.fillna(0)\n"
   ]
  },
  {
   "cell_type": "code",
   "execution_count": 11,
   "id": "5b909e29",
   "metadata": {},
   "outputs": [],
   "source": [
    "train_cv = train_cv.merge(user_view_agg, on='user_id', how='left')"
   ]
  },
  {
   "cell_type": "code",
   "execution_count": 12,
   "id": "72fcf095",
   "metadata": {},
   "outputs": [],
   "source": [
    "train_cv = train_cv.merge(view_logs[['user_id', 'device_type']], on='user_id', how='left')"
   ]
  },
  {
   "cell_type": "code",
   "execution_count": 13,
   "id": "57e0e2a5",
   "metadata": {},
   "outputs": [
    {
     "data": {
      "text/plain": [
       "Index(['impression_id', 'impression_time', 'user_id', 'app_code', 'os_version',\n",
       "       'is_4G', 'is_click', 'total_views', 'avg_item_price', 'max_item_price',\n",
       "       'unique_cat1', 'unique_cat2', 'unique_cat3', 'unique_product_types',\n",
       "       'device_type'],\n",
       "      dtype='object')"
      ]
     },
     "execution_count": 13,
     "metadata": {},
     "output_type": "execute_result"
    }
   ],
   "source": [
    "train_cv.columns"
   ]
  },
  {
   "cell_type": "code",
   "execution_count": 14,
   "id": "57a1e0bc",
   "metadata": {},
   "outputs": [
    {
     "data": {
      "image/png": "[encoded data removed]",
      "text/plain": [
       "<Figure size 640x480 with 1 Axes>"
      ]
     },
     "metadata": {},
     "output_type": "display_data"
    },
    {
     "data": {
      "image/png": "[encoded data removed]",
      "text/plain": [
       "<Figure size 1000x600 with 1 Axes>"
      ]
     },
     "metadata": {},
     "output_type": "display_data"
    },
    {
     "data": {
      "image/png": "[encoded data removed]",
      "text/plain": [
       "<Figure size 600x500 with 1 Axes>"
      ]
     },
     "metadata": {},
     "output_type": "display_data"
    }
   ],
   "source": [
    "sns.countplot(data=train_cv, x='is_click')\n",
    "plt.title('Target Distribution')\n",
    "\n",
    "app_code_counts = train_cv['app_code'].value_counts()\n",
    "\n",
    "# Plot the frequencies (log scale helps if highly skewed)\n",
    "plt.figure(figsize=(10, 6))\n",
    "sns.histplot(app_code_counts, bins=50, kde=False)\n",
    "plt.title('App Code Frequency Distribution')\n",
    "plt.xlabel('Frequency of App Code')\n",
    "plt.ylabel('Number of App Codes')\n",
    "plt.yscale('log')  # Optional: Log scale helps if data is very skewed\n",
    "plt.grid(True)\n",
    "plt.show()\n",
    "\n",
    "# CTR by OS Version\n",
    "plt.figure(figsize=(6, 5))\n",
    "train_cv.groupby('os_version')['is_click'].mean().sort_values(ascending=False).plot(kind='bar')\n",
    "plt.title('CTR by OS Version')\n",
    "plt.tight_layout()\n",
    "\n",
    "plt.show()"
   ]
  },
  {
   "cell_type": "code",
   "execution_count": 15,
   "id": "c9dd3ca3",
   "metadata": {},
   "outputs": [],
   "source": [
    "train_cv['impression_time'] = pd.to_datetime(train_cv['impression_time'])\n",
    "\n",
    "train_cv['hour'] = train_cv['impression_time'].dt.hour\n",
    "train_cv['dayofweek'] = train_cv['impression_time'].dt.dayofweek\n",
    "train_cv['is_weekend'] = train_cv['dayofweek'].isin([5, 6]).astype(int)"
   ]
  },
  {
   "cell_type": "code",
   "execution_count": 16,
   "id": "0c22f26e",
   "metadata": {},
   "outputs": [],
   "source": [
    "cols_to_encode = [\"os_version\", \"device_type\"]\n",
    "\n",
    "for col in cols_to_encode:\n",
    "    mask = train_cv[col].apply(lambda x: isinstance(x, (list, tuple, np.ndarray)))\n",
    "    if mask.any():\n",
    "        print(f\"Column '{col}' has array-like values at indices: {train_cv.index[mask].tolist()}\")\n",
    "        print(train_cv.loc[mask, col])"
   ]
  },
  {
   "cell_type": "code",
   "execution_count": 17,
   "id": "0a7b2615",
   "metadata": {},
   "outputs": [],
   "source": [
    "train_cv = train_cv.drop(index=224520)"
   ]
  },
  {
   "cell_type": "code",
   "execution_count": 18,
   "id": "e8706875",
   "metadata": {},
   "outputs": [],
   "source": [
    "le = LabelEncoder()\n",
    "ohe = OneHotEncoder(drop='first', sparse_output=False)  # drop='first' for dummy trap, sparse_output=False for DataFrame\n",
    "\n",
    "for col in ['unique_cat1', 'unique_cat2', 'unique_cat3', 'unique_product_types']:\n",
    "    train_cv[col] = train_cv[col].astype(str)  # If needed\n",
    "    train_cv[col] = le.fit_transform(train_cv[col])\n",
    "encoded_array = ohe.fit_transform(train_cv[cols_to_encode])\n",
    "encoded_df = pd.DataFrame(\n",
    "    encoded_array, \n",
    "    columns=ohe.get_feature_names_out(cols_to_encode),\n",
    "    index=train_cv.index\n",
    ")\n",
    "train_cv = pd.concat([train_cv.drop(columns=cols_to_encode), encoded_df], axis=1)\n"
   ]
  },
  {
   "cell_type": "code",
   "execution_count": 19,
   "id": "8871410d",
   "metadata": {},
   "outputs": [],
   "source": [
    "app_click_rate = train_cv.groupby('app_code')['is_click'].mean()\n",
    "train_cv['app_code_click_rate'] = train_cv['app_code'].map(app_click_rate)"
   ]
  },
  {
   "cell_type": "code",
   "execution_count": 20,
   "id": "8ff4317f",
   "metadata": {},
   "outputs": [
    {
     "name": "stdout",
     "output_type": "stream",
     "text": [
      "At Threshold -> 10\n",
      "Click rate variance for frequent apps: 0.028216636634328614\n",
      "Click rate variance for rare apps: 0.04343434343434343\n",
      "At Threshold -> 20\n",
      "Click rate variance for frequent apps: 0.025553633561824135\n",
      "Click rate variance for rare apps: 0.05392354124748493\n",
      "At Threshold -> 30\n",
      "Click rate variance for frequent apps: 0.022039304623800764\n",
      "Click rate variance for rare apps: 0.06706756186493315\n",
      "At Threshold -> 40\n",
      "Click rate variance for frequent apps: 0.02214419774337628\n",
      "Click rate variance for rare apps: 0.06007926268402907\n",
      "At Threshold -> 50\n",
      "Click rate variance for frequent apps: 0.021041592056470517\n",
      "Click rate variance for rare apps: 0.060100518010297095\n"
     ]
    }
   ],
   "source": [
    "# Frequency of each app_code\n",
    "app_freq = train_cv['app_code'].value_counts()\n",
    "\n",
    "# Click rate per app_code\n",
    "app_click_rate = train_cv.groupby('app_code')['is_click'].mean()\n",
    "\n",
    "# Combine into one DataFrame\n",
    "app_stats = pd.DataFrame({\n",
    "    'frequency': app_freq,\n",
    "    'click_rate': app_click_rate\n",
    "})\n",
    "\n",
    "# Mark rare\n",
    "thresholds = [10,20,30,40,50]  # try 10, 30, 50, etc.\n",
    "for threshold in thresholds:\n",
    "    app_stats['is_rare'] = app_stats['frequency'] < threshold\n",
    "\n",
    "    # Compare variance\n",
    "    print(\"At Threshold ->\",threshold)\n",
    "    print(\"Click rate variance for frequent apps:\", app_stats.loc[~app_stats['is_rare'], 'click_rate'].var())\n",
    "    print(\"Click rate variance for rare apps:\", app_stats.loc[app_stats['is_rare'], 'click_rate'].var())\n",
    "\n",
    "    # Plot click rate vs frequency\n",
    "    # import matplotlib.pyplot as plt\n",
    "    # plt.figure(figsize=(8,5))\n",
    "    # plt.scatter(app_stats['frequency'], app_stats['click_rate'], alpha=0.5)\n",
    "    # plt.xscale('log')\n",
    "    # plt.xlabel('Frequency (log scale)')\n",
    "    # plt.ylabel('Click Rate')\n",
    "    # plt.title('Click Rate vs App Code Frequency')\n",
    "    # plt.axvline(threshold, color='red', linestyle='--', label=f'Threshold = {threshold}')\n",
    "    # plt.legend()\n",
    "    # plt.show()\n"
   ]
  },
  {
   "cell_type": "code",
   "execution_count": 21,
   "id": "a51c4577",
   "metadata": {},
   "outputs": [],
   "source": [
    "threshold = 40\n",
    "\n",
    "# Count frequencies\n",
    "app_freq = train_cv['app_code'].value_counts()\n",
    "\n",
    "# Identify rare ones\n",
    "rare_apps = app_freq[app_freq < threshold].index\n",
    "\n",
    "# Create cleaned column\n",
    "train_cv['app_code_cleaned'] = train_cv['app_code'].apply(lambda x: 'other' if x in rare_apps else x)"
   ]
  },
  {
   "cell_type": "code",
   "execution_count": 22,
   "id": "ed0c1297",
   "metadata": {},
   "outputs": [],
   "source": [
    "# Click rate after grouping\n",
    "app_click_rate = train_cv.groupby('app_code_cleaned')['is_click'].mean()\n",
    "\n",
    "# Map back to dataset\n",
    "train_cv['app_code_click_rate'] = train_cv['app_code_cleaned'].map(app_click_rate)\n"
   ]
  },
  {
   "cell_type": "code",
   "execution_count": 23,
   "id": "efb132ca",
   "metadata": {},
   "outputs": [
    {
     "data": {
      "text/plain": [
       "Index(['impression_id', 'impression_time', 'user_id', 'app_code', 'is_4G',\n",
       "       'is_click', 'total_views', 'avg_item_price', 'max_item_price',\n",
       "       'unique_cat1', 'unique_cat2', 'unique_cat3', 'unique_product_types',\n",
       "       'hour', 'dayofweek', 'is_weekend', 'os_version_latest',\n",
       "       'os_version_old', 'device_type_iphone', 'device_type_web',\n",
       "       'app_code_click_rate', 'app_code_cleaned'],\n",
       "      dtype='object')"
      ]
     },
     "execution_count": 23,
     "metadata": {},
     "output_type": "execute_result"
    }
   ],
   "source": [
    "train_cv.columns"
   ]
  },
  {
   "cell_type": "code",
   "execution_count": 24,
   "id": "04f48152",
   "metadata": {},
   "outputs": [],
   "source": [
    "features = [\n",
    "    'app_code', 'os_version_latest','os_version_old','is_4G',\n",
    "    'hour', 'dayofweek', 'is_weekend',\n",
    "    'device_type_iphone', 'device_type_web',\n",
    "    'total_views', 'avg_item_price', 'max_item_price',\n",
    "    'unique_cat1', 'unique_cat2', 'unique_cat3', 'unique_product_types'\n",
    "]\n",
    "target = 'is_click'"
   ]
  },
  {
   "cell_type": "code",
   "execution_count": 25,
   "id": "27bf1f17",
   "metadata": {},
   "outputs": [],
   "source": [
    "train_cv = train_cv.iloc[:1000000]"
   ]
  },
  {
   "cell_type": "code",
   "execution_count": 39,
   "id": "1b139012",
   "metadata": {},
   "outputs": [],
   "source": [
    "train_cv = train_cv.drop_duplicates(subset=['impression_id'])\n"
   ]
  },
  {
   "cell_type": "code",
   "execution_count": 40,
   "id": "2aae7266",
   "metadata": {},
   "outputs": [
    {
     "name": "stdout",
     "output_type": "stream",
     "text": [
      "Before undersampling: is_click\n",
      "0    20031\n",
      "1     1016\n",
      "Name: count, dtype: int64\n",
      "After undersampling: is_click\n",
      "1    1016\n",
      "0    1016\n",
      "Name: count, dtype: int64\n"
     ]
    }
   ],
   "source": [
    "# Separate majority and minority classes\n",
    "majority_class = train_cv[train_cv[target] == 0]\n",
    "minority_class = train_cv[train_cv[target] == 1]\n",
    "\n",
    "# Undersample majority class to match minority count\n",
    "majority_class_undersampled = majority_class.sample(\n",
    "    n=len(minority_class),\n",
    "    random_state=42\n",
    ")\n",
    "\n",
    "# Combine minority class with undersampled majority class\n",
    "train_cv_balanced = pd.concat([minority_class, majority_class_undersampled])\n",
    "\n",
    "# Shuffle the resulting dataframe\n",
    "train_cv_balanced = train_cv_balanced.sample(frac=1, random_state=42).reset_index(drop=True)\n",
    "\n",
    "print(\"Before undersampling:\", train_cv[target].value_counts())\n",
    "print(\"After undersampling:\", train_cv_balanced[target].value_counts())\n",
    "\n",
    "# Now train_cv_balanced can be used for training\n"
   ]
  },
  {
   "cell_type": "code",
   "execution_count": 41,
   "id": "e5c77b61",
   "metadata": {},
   "outputs": [],
   "source": [
    "X_train, X_test, y_train, y_test = train_test_split(train_cv_balanced[features], train_cv_balanced[target], test_size=0.3, random_state=42)"
   ]
  },
  {
   "cell_type": "code",
   "execution_count": 42,
   "id": "3fb3da40",
   "metadata": {},
   "outputs": [],
   "source": [
    "poly = PolynomialFeatures(degree=2, interaction_only=False, include_bias=False)\n",
    "poly_features = poly.fit_transform(X_train[features])\n",
    "poly_feature_names = poly.get_feature_names_out(X_train[features].columns)\n",
    "X_train_poly = pd.DataFrame(poly_features, columns=poly_feature_names, index=X_train[features].index)"
   ]
  },
  {
   "cell_type": "code",
   "execution_count": 43,
   "id": "b742113b",
   "metadata": {},
   "outputs": [
    {
     "name": "stdout",
     "output_type": "stream",
     "text": [
      "✅ Selected top features using Mutual Information: ['app_code', 'total_views', 'unique_product_types', 'app_code^2', 'app_code os_version_old', 'app_code hour', 'app_code dayofweek', 'app_code device_type_web', 'app_code total_views', 'app_code max_item_price', 'app_code unique_cat1', 'app_code unique_cat3', 'app_code unique_product_types', 'os_version_latest max_item_price', 'os_version_old avg_item_price', 'os_version_old unique_cat2', 'os_version_old unique_cat3', 'hour device_type_iphone', 'hour unique_cat3', 'dayofweek unique_cat2', 'dayofweek unique_cat3', 'device_type_iphone max_item_price', 'total_views^2', 'total_views max_item_price', 'total_views unique_cat2', 'total_views unique_cat3', 'unique_cat1 unique_product_types', 'unique_cat2^2', 'unique_cat2 unique_product_types', 'unique_cat3 unique_product_types']\n"
     ]
    }
   ],
   "source": [
    "from sklearn.feature_selection import SelectKBest, mutual_info_classif\n",
    "\n",
    "# 5️⃣ Feature Selection with Mutual Information\n",
    "# Select top k features (max 30 or total available)\n",
    "# mi_selector = SelectKBest(mutual_info_classif, k=min(30, train_cv[features].iloc[:10000].shape[1]))\n",
    "mi_selector = SelectKBest(mutual_info_classif, k=min(30, X_train_poly.shape[1]))\n",
    "\n",
    "# Fit selector on X, y\n",
    "X_selected = mi_selector.fit_transform(X_train_poly, y_train)\n",
    "\n",
    "# Get the names of selected features\n",
    "selected_feature_names = X_train_poly.columns[mi_selector.get_support()]\n",
    "\n",
    "# Replace X with selected features\n",
    "# X = pd.DataFrame(X_selected, columns=selected_feature_names, index=train_cv[features].index)\n",
    "\n",
    "print(f\"✅ Selected top features using Mutual Information: {list(selected_feature_names)}\")"
   ]
  },
  {
   "cell_type": "code",
   "execution_count": 44,
   "id": "2ed3a6f1",
   "metadata": {},
   "outputs": [],
   "source": [
    "poly = PolynomialFeatures(degree=2, interaction_only=False, include_bias=False)\n",
    "poly_features = poly.fit_transform(X_test[features])\n",
    "poly_feature_names = poly.get_feature_names_out(X_test[features].columns)\n",
    "X_test_poly = pd.DataFrame(poly_features, columns=poly_feature_names, index=X_test[features].index)"
   ]
  },
  {
   "cell_type": "code",
   "execution_count": 31,
   "id": "407dfa67",
   "metadata": {},
   "outputs": [],
   "source": [
    "# from sklearn.ensemble import RandomForestClassifier\n",
    "# from sklearn.metrics import classification_report, confusion_matrix ,  roc_auc_score, roc_curve, precision_recall_curve\n",
    "# import pandas as pd\n",
    "\n",
    "\n",
    "# # 2. Baseline Model\n",
    "# model = RandomForestClassifier( random_state=42,\n",
    "#     n_estimators=50,       # fewer trees\n",
    "#     max_depth=10,          # limit depth\n",
    "#     n_jobs=-1 ,\n",
    "#     class_weight='balanced'\n",
    "#     )\n",
    "# model.fit(X_train_poly[selected_feature_names], y_train)\n",
    "\n",
    "# # 3. Predictions\n",
    "# y_pred = model.predict(X_test_poly[selected_feature_names])\n",
    "# y_proba = model.predict_proba(X_test_poly[selected_feature_names])[:, 1]\n",
    "\n",
    "# # 4. Evaluation\n",
    "# print(\"Classification Report:\\n\", classification_report(y_test, y_pred))\n",
    "# print(\"ROC-AUC Score:\", roc_auc_score(y_test, y_proba))\n",
    "# print(\"Confusion Matrix:\\n\", confusion_matrix(y_test, y_pred))\n",
    "\n",
    "# # 5. Feature Importance\n",
    "# feat_importances = pd.Series(model.feature_importances_, index=X_train_poly[selected_feature_names].columns)\n",
    "# feat_importances.nlargest(10).plot(kind='barh')"
   ]
  },
  {
   "cell_type": "code",
   "execution_count": 32,
   "id": "560caa6f",
   "metadata": {},
   "outputs": [],
   "source": [
    "# # ✅ 3. ROC Curve\n",
    "# fpr, tpr, _ = roc_curve(y_test, y_proba)\n",
    "# plt.figure(figsize=(6,5))\n",
    "# plt.plot(fpr, tpr, label=f\"ROC-AUC = {roc_auc_score(y_test, y_proba):.3f}\")\n",
    "# plt.plot([0,1], [0,1], 'k--')\n",
    "# plt.xlabel(\"False Positive Rate\")\n",
    "# plt.ylabel(\"True Positive Rate\")\n",
    "# plt.title(\"ROC Curve\")\n",
    "# plt.legend()\n",
    "# plt.show()\n",
    "\n",
    "# # ✅ 4. Precision-Recall Curve\n",
    "# precision, recall, _ = precision_recall_curve(y_test, y_proba)\n",
    "# plt.figure(figsize=(6,5))\n",
    "# plt.plot(recall, precision, label=\"Precision-Recall Curve\")\n",
    "# plt.xlabel(\"Recall\")\n",
    "# plt.ylabel(\"Precision\")\n",
    "# plt.title(\"Precision-Recall Curve\")\n",
    "# plt.legend()\n",
    "# plt.show()"
   ]
  },
  {
   "cell_type": "code",
   "execution_count": 33,
   "id": "6e38d1c5",
   "metadata": {},
   "outputs": [],
   "source": [
    "# from sklearn.metrics import (\n",
    "#     accuracy_score, balanced_accuracy_score, precision_score, recall_score,\n",
    "#     f1_score, matthews_corrcoef, confusion_matrix, classification_report,\n",
    "#     brier_score_loss, roc_auc_score\n",
    "# )\n",
    "# metrics = {}\n",
    "\n",
    "# # Basic scores\n",
    "# metrics['Accuracy'] = accuracy_score(y_test, y_pred)\n",
    "# metrics['Balanced Accuracy'] = balanced_accuracy_score(y_test, y_pred)\n",
    "# metrics['Precision'] = precision_score(y_test, y_pred)\n",
    "# metrics['Recall'] = recall_score(y_test, y_pred)\n",
    "# metrics['F1 Score'] = f1_score(y_test, y_pred)\n",
    "# metrics['MCC'] = matthews_corrcoef(y_test, y_pred)\n",
    "\n",
    "# # Probability-based scores\n",
    "# metrics['ROC AUC'] = roc_auc_score(y_test, y_proba)\n",
    "# metrics['Brier Score'] = brier_score_loss(y_test, y_proba)\n",
    "\n",
    "# # Display all metrics nicely\n",
    "# metrics_df = pd.DataFrame.from_dict(metrics, orient='index', columns=['Score'])\n",
    "# print(\"\\n=== Model Performance Metrics ===\")\n",
    "# print(metrics_df.round(4))\n",
    "\n",
    "# # Detailed classification report\n",
    "# print(\"\\n=== Classification Report ===\")\n",
    "# print(classification_report(y_test, y_pred))\n",
    "\n",
    "# # Confusion matrix\n",
    "# cm = confusion_matrix(y_test, y_pred)\n",
    "# print(\"\\n=== Confusion Matrix ===\")\n",
    "# print(cm)"
   ]
  },
  {
   "cell_type": "code",
   "execution_count": 34,
   "id": "58b93392",
   "metadata": {},
   "outputs": [],
   "source": [
    "# import numpy as np\n",
    "# import matplotlib.pyplot as plt\n",
    "# from sklearn.model_selection import learning_curve, validation_curve , StratifiedKFold\n",
    "# from sklearn.inspection import permutation_importance\n",
    "# from sklearn.calibration import calibration_curve\n",
    "# from sklearn.metrics import accuracy_score, roc_auc_score\n",
    "\n",
    "# # ==========================\n",
    "# # 1. Train/Test Performance Gap\n",
    "# # ==========================\n",
    "# y_train_pred = model.predict(X_train_poly[selected_feature_names])\n",
    "# y_test_pred = model.predict(X_test_poly[selected_feature_names])\n",
    "\n",
    "# train_acc = accuracy_score(y_train, y_train_pred)\n",
    "# test_acc = accuracy_score(y_test, y_test_pred)\n",
    "\n",
    "# print(\"Train Accuracy:\", train_acc)\n",
    "# print(\"Test Accuracy:\", test_acc)\n",
    "# print(\"Gap:\", train_acc - test_acc)\n",
    "\n",
    "# # ==========================\n",
    "# # 2. Learning Curves\n",
    "# # ==========================\n",
    "# train_sizes, train_scores, test_scores = learning_curve(\n",
    "#     model, X_train, y_train, cv=5, scoring='accuracy', n_jobs=-1,\n",
    "#     train_sizes=np.linspace(0.1, 1.0, 6)\n",
    "# )\n",
    "\n",
    "# train_scores_mean = np.mean(train_scores, axis=1)\n",
    "# test_scores_mean = np.mean(test_scores, axis=1)\n",
    "\n",
    "# plt.figure(figsize=(8,5))\n",
    "# plt.plot(train_sizes, train_scores_mean, 'o-', label=\"Training score\")\n",
    "# plt.plot(train_sizes, test_scores_mean, 'o-', label=\"Validation score\")\n",
    "# plt.title(\"Learning Curve\")\n",
    "# plt.xlabel(\"Training examples\")\n",
    "# plt.ylabel(\"Accuracy\")\n",
    "# plt.legend()\n",
    "# plt.grid()\n",
    "# plt.show()\n",
    "\n",
    "# # ==========================\n",
    "# # 3. Validation Curve (example with max_depth)\n",
    "# # ==========================\n",
    "# param_range = np.arange(1, 15)\n",
    "# train_scores, test_scores = validation_curve(\n",
    "#     model, X_train, y_train, param_name=\"max_depth\",\n",
    "#     param_range=param_range, cv=5, scoring=\"accuracy\", n_jobs=-1\n",
    "# )\n",
    "\n",
    "# train_mean = np.mean(train_scores, axis=1)\n",
    "# test_mean = np.mean(test_scores, axis=1)\n",
    "\n",
    "# plt.figure(figsize=(8,5))\n",
    "# plt.plot(param_range, train_mean, label=\"Training score\", marker='o')\n",
    "# plt.plot(param_range, test_mean, label=\"Validation score\", marker='o')\n",
    "# plt.title(\"Validation Curve for max_depth\")\n",
    "# plt.xlabel(\"max_depth\")\n",
    "# plt.ylabel(\"Accuracy\")\n",
    "# plt.legend()\n",
    "# plt.grid()\n",
    "# plt.show()\n",
    "\n",
    "# # ==========================\n",
    "# # 4. Permutation Importance\n",
    "# # ==========================\n",
    "# perm_importance = permutation_importance(model, X_test_poly[selected_feature_names], y_test, n_repeats=10, random_state=42, n_jobs=-1)\n",
    "# sorted_idx = perm_importance.importances_mean.argsort()\n",
    "\n",
    "# plt.figure(figsize=(8,5))\n",
    "# plt.barh(range(len(sorted_idx)), perm_importance.importances_mean[sorted_idx])\n",
    "# plt.yticks(range(len(sorted_idx)), np.array(X_train_poly[selected_feature_names].columns)[sorted_idx])\n",
    "# plt.title(\"Permutation Importance (Test Set)\")\n",
    "# plt.show()\n",
    "\n",
    "# # ==========================\n",
    "# # 5. Calibration Curve\n",
    "# # ==========================\n",
    "# if hasattr(model, \"predict_proba\"):\n",
    "#     prob_pos = model.predict_proba(X_test_poly[selected_feature_names])[:, 1]\n",
    "# else:\n",
    "#     # Some models use decision_function instead\n",
    "#     from sklearn.utils import check_array\n",
    "#     prob_pos = model.decision_function(X_test_poly[selected_feature_names])\n",
    "#     prob_pos = (prob_pos - prob_pos.min()) / (prob_pos.max() - prob_pos.min())\n",
    "\n",
    "# fraction_of_positives, mean_predicted_value = calibration_curve(y_test, prob_pos, n_bins=10)\n",
    "\n",
    "# plt.figure(figsize=(8,5))\n",
    "# plt.plot(mean_predicted_value, fraction_of_positives, \"s-\", label=\"Model\")\n",
    "# plt.plot([0, 1], [0, 1], \"k--\", label=\"Perfectly calibrated\")\n",
    "# plt.xlabel(\"Mean predicted value\")\n",
    "# plt.ylabel(\"Fraction of positives\")\n",
    "# plt.title(\"Calibration Curve\")\n",
    "# plt.legend()\n",
    "# plt.grid()\n",
    "# plt.show()\n"
   ]
  },
  {
   "cell_type": "code",
   "execution_count": 45,
   "id": "64751dc4",
   "metadata": {},
   "outputs": [
    {
     "name": "stdout",
     "output_type": "stream",
     "text": [
      "accuracy: 0.5654\n",
      "precision: 0.5693\n",
      "recall: 0.6066\n",
      "f1: 0.5865\n",
      "roc_auc: 0.5924\n",
      "\n",
      "Confusion Matrices (per fold):\n",
      "Fold 1:\n",
      "[[36 34]\n",
      " [27 46]]\n",
      "\n",
      "Fold 2:\n",
      "[[24 46]\n",
      " [26 47]]\n",
      "\n",
      "Fold 3:\n",
      "[[41 29]\n",
      " [29 43]]\n",
      "\n",
      "Fold 4:\n",
      "[[34 36]\n",
      " [30 42]]\n",
      "\n",
      "Fold 5:\n",
      "[[39 31]\n",
      " [25 47]]\n",
      "\n",
      "Fold 6:\n",
      "[[35 35]\n",
      " [34 38]]\n",
      "\n",
      "Fold 7:\n",
      "[[45 25]\n",
      " [29 43]]\n",
      "\n",
      "Fold 8:\n",
      "[[37 33]\n",
      " [32 40]]\n",
      "\n",
      "Fold 9:\n",
      "[[35 35]\n",
      " [26 46]]\n",
      "\n",
      "Fold 10:\n",
      "[[40 30]\n",
      " [26 46]]\n",
      "\n"
     ]
    }
   ],
   "source": [
    "from sklearn.model_selection import learning_curve, validation_curve , StratifiedKFold\n",
    "from sklearn.ensemble import RandomForestClassifier\n",
    "from sklearn.metrics import (\n",
    "    accuracy_score, balanced_accuracy_score, precision_score, recall_score,\n",
    "    f1_score, matthews_corrcoef, confusion_matrix, classification_report,\n",
    "    brier_score_loss, roc_auc_score\n",
    ")\n",
    "cv = StratifiedKFold(n_splits=10, shuffle=True, random_state=42)\n",
    "metrics = {\n",
    "    \"accuracy\": [],\n",
    "    \"precision\": [],\n",
    "    \"recall\": [],\n",
    "    \"f1\": [],\n",
    "    \"roc_auc\": [],\n",
    "    \"conf_matrix\": []\n",
    "}\n",
    "train_scores, test_scores = [], []\n",
    "for fold, (train_idx, test_idx) in enumerate(cv.split(X_train_poly[selected_feature_names], y_train), start=1):\n",
    "    X_train_cv = X_train_poly[selected_feature_names].iloc[train_idx]\n",
    "    X_test_cv  = X_train_poly[selected_feature_names].iloc[test_idx]\n",
    "    y_train_cv = y_train.iloc[train_idx]\n",
    "    y_test_cv  = y_train.iloc[test_idx]\n",
    "    \n",
    "    model = RandomForestClassifier(n_estimators=200, random_state=42)\n",
    "    model.fit(X_train_cv, y_train_cv)\n",
    "\n",
    "    # Predictions\n",
    "    y_train_pred = model.predict(X_train_cv)\n",
    "    y_test_pred  = model.predict(X_test_cv)\n",
    "    if hasattr(model, \"predict_proba\"):\n",
    "            y_proba = model.predict_proba(X_test_cv)[:, 1]\n",
    "    else:\n",
    "        y_proba = None\n",
    "    \n",
    "    # Append metrics\n",
    "    metrics[\"accuracy\"].append(accuracy_score(y_test_cv, y_test_pred))\n",
    "    metrics[\"precision\"].append(precision_score(y_test_cv, y_test_pred, zero_division=0))\n",
    "    metrics[\"recall\"].append(recall_score(y_test_cv, y_test_pred, zero_division=0))\n",
    "    metrics[\"f1\"].append(f1_score(y_test_cv, y_test_pred, zero_division=0))\n",
    "\n",
    "    if y_proba is not None:\n",
    "        metrics[\"roc_auc\"].append(roc_auc_score(y_test_cv, y_proba))\n",
    "    else:\n",
    "        metrics[\"roc_auc\"].append(np.nan)\n",
    "\n",
    "    metrics[\"conf_matrix\"].append(confusion_matrix(y_test_cv, y_test_pred))\n",
    "\n",
    "    # Mean results\n",
    "for m in [\"accuracy\", \"precision\", \"recall\", \"f1\", \"roc_auc\"]:\n",
    "    print(f\"{m}: {np.nanmean(metrics[m]):.4f}\")\n",
    "\n",
    "print(\"\\nConfusion Matrices (per fold):\")\n",
    "for i, cm in enumerate(metrics[\"conf_matrix\"], 1):\n",
    "    print(f\"Fold {i}:\\n{cm}\\n\")"
   ]
  },
  {
   "cell_type": "code",
   "execution_count": 36,
   "id": "a95ef0f9",
   "metadata": {},
   "outputs": [
    {
     "name": "stdout",
     "output_type": "stream",
     "text": [
      "Duplicates in X: 77029\n",
      "Fold 1 overlap in indices: 0\n",
      "Fold 2 overlap in indices: 0\n",
      "Fold 3 overlap in indices: 0\n",
      "Fold 4 overlap in indices: 0\n",
      "Fold 5 overlap in indices: 0\n",
      "\n",
      "Features highly correlated with target:\n",
      "Series([], dtype: float64)\n"
     ]
    }
   ],
   "source": [
    "# 1. Check for duplicate rows across the dataset\n",
    "print(\"Duplicates in X:\", X_train_poly[selected_feature_names].duplicated().sum())\n",
    "\n",
    "# 2. Check if any test fold contains exact rows from the train fold\n",
    "from sklearn.model_selection import StratifiedKFold\n",
    "\n",
    "kf = StratifiedKFold(n_splits=5, shuffle=True, random_state=42)\n",
    "for fold, (train_idx, test_idx) in enumerate(kf.split(X_train_poly[selected_feature_names], y_train), 1):\n",
    "    overlap = np.intersect1d(train_idx, test_idx).size\n",
    "    print(f\"Fold {fold} overlap in indices:\", overlap)\n",
    "\n",
    "# 3. Look for ID-like columns (user_id, timestamp, etc.)\n",
    "if isinstance(X_train_poly[selected_feature_names], pd.DataFrame):\n",
    "    for col in X_train_poly[selected_feature_names].columns:\n",
    "        if X_train_poly[selected_feature_names][col].nunique() == len(X_train_poly[selected_feature_names]):\n",
    "            print(f\"Potential ID column: {col}\")\n",
    "\n",
    "# 4. Check correlation of each feature with target (too high = suspicious)\n",
    "if isinstance(X_train_poly[selected_feature_names], pd.DataFrame):\n",
    "    corrs = X_train_poly[selected_feature_names].corrwith(pd.Series(y_train))\n",
    "    print(\"\\nFeatures highly correlated with target:\")\n",
    "    print(corrs[abs(corrs) > 0.95])\n"
   ]
  },
  {
   "cell_type": "code",
   "execution_count": 37,
   "id": "253b25fc",
   "metadata": {},
   "outputs": [
    {
     "name": "stdout",
     "output_type": "stream",
     "text": [
      "Exact duplicates including labels: 91881\n"
     ]
    }
   ],
   "source": [
    "dup_with_label = pd.concat([X_train_poly[selected_feature_names], y_train.reset_index(drop=True)], axis=1)\n",
    "dup_count = dup_with_label.duplicated().sum()\n",
    "print(f\"Exact duplicates including labels: {dup_count}\")\n"
   ]
  }
 ],
 "metadata": {
  "kernelspec": {
   "display_name": ".venv",
   "language": "python",
   "name": "python3"
  },
  "language_info": {
   "codemirror_mode": {
    "name": "ipython",
    "version": 3
   },
   "file_extension": ".py",
   "mimetype": "text/x-python",
   "name": "python",
   "nbconvert_exporter": "python",
   "pygments_lexer": "ipython3",
   "version": "3.13.5"
  }
 },
 "nbformat": 4,
 "nbformat_minor": 5
}
